{
 "cells": [
  {
   "cell_type": "markdown",
   "metadata": {},
   "source": [
    "## Sposób 1 posortowac i powstawiac kolejno do plecakow"
   ]
  },
  {
   "cell_type": "markdown",
   "metadata": {},
   "source": [
    "### Na początku grafiki pracowników wyglądają tak:"
   ]
  },
  {
   "cell_type": "code",
   "execution_count": 4,
   "metadata": {},
   "outputs": [],
   "source": [
    "import numpy as np"
   ]
  },
  {
   "cell_type": "code",
   "execution_count": 5,
   "metadata": {},
   "outputs": [
    {
     "data": {
      "text/plain": [
       "[[], [], []]"
      ]
     },
     "execution_count": 5,
     "metadata": {},
     "output_type": "execute_result"
    }
   ],
   "source": [
    "m = 3\n",
    "[ [] for _ in range(m)]"
   ]
  },
  {
   "cell_type": "markdown",
   "metadata": {},
   "source": [
    "chcemy wpasowac weights = [1, 1, 3, 4, 5, 4, 2, 1, 3] tak aby dla kazdego pracownika ich suma nie przekroczyla capacity"
   ]
  },
  {
   "cell_type": "markdown",
   "metadata": {},
   "source": [
    "pomysl 1 najprosciej: posortowac i kolejno wkladac do plecakow najmniejsze elementy"
   ]
  },
  {
   "cell_type": "code",
   "execution_count": 6,
   "metadata": {},
   "outputs": [
    {
     "name": "stdout",
     "output_type": "stream",
     "text": [
      "\n",
      "Pracownik 1:\n",
      "Klienci: [1, 7, 4]\n",
      "Czas oczekiwania: [1, 2, 4]\n",
      "\n",
      "Pracownik 2:\n",
      "Klienci: [2, 3, 6]\n",
      "Czas oczekiwania: [1, 3, 4]\n",
      "\n",
      "Pracownik 3:\n",
      "Klienci: [8, 9]\n",
      "Czas oczekiwania: [1, 3]\n"
     ]
    }
   ],
   "source": [
    "def knapsack(weights, capacity, m):\n",
    "    n = len(weights)\n",
    "    indices = np.argsort(weights)\n",
    "    weights = sorted(weights) \n",
    "\n",
    "    employer_graphics = [ [] for _ in range(m)]\n",
    "    employer_weights = [ [] for _ in range(m)]\n",
    "    employer_sum = [0 for _ in range(m)]\n",
    "    c=-1\n",
    "    for i in range(0, n):                 \n",
    "        employer_sum[i%m] += weights[i] \n",
    "        if employer_sum[i%m] <= capacity:\n",
    "            employer_graphics[i%m].append(indices[i] + 1) # dodaję 1, bo numerujemy klientów od 1\n",
    "            employer_weights[i%m].append(weights[i])\n",
    "    \n",
    "    return employer_graphics, employer_weights\n",
    "\n",
    "weights = [1, 1, 3, 4, 5, 4, 2, 1, 3] ## zamowienia ti - pokolei ile trwaly czasu\n",
    "capacity = 8\n",
    "m = 3\n",
    "employer_graphics,employer_weights = knapsack(weights, capacity, m)\n",
    "for i in range(1, m+1):\n",
    "    print(\"\\nPracownik %i:\" % i)\n",
    "    print(\"Klienci:\", employer_graphics[i-1])\n",
    "    print(\"Czas oczekiwania:\", employer_weights[i-1])"
   ]
  },
  {
   "cell_type": "markdown",
   "metadata": {},
   "source": [
    "problem: 5 sie nigdzie nie zmiescila a lacznie suma miejsc jaka zostala pracownikom to 5 miejsc"
   ]
  },
  {
   "cell_type": "markdown",
   "metadata": {},
   "source": [
    "(wiec jakos sie musi dac) Ja: Czy to na pewno stąd wynika, może wcale się nie da?"
   ]
  },
  {
   "cell_type": "markdown",
   "metadata": {},
   "source": [
    "Nie mozna raczej posortowac tej listy bo w wyniku trzeba podac numery zamowien. Ja: można użyć funckji np.argsort."
   ]
  },
  {
   "cell_type": "markdown",
   "metadata": {},
   "source": [
    "## Sposób 2 z wykorzystaniem algorytmu dla zwyklego problemu plecakowego"
   ]
  },
  {
   "cell_type": "code",
   "execution_count": 22,
   "metadata": {},
   "outputs": [
    {
     "name": "stdout",
     "output_type": "stream",
     "text": [
      "Wagi które zostały: []\n",
      "\n",
      "Pracownik 1:\n",
      "Klienci: [9, 5]\n",
      "Czas oczekiwania: [3, 5]\n",
      "\n",
      "Pracownik 2:\n",
      "Klienci: [6, 4]\n",
      "Czas oczekiwania: [4, 4]\n",
      "\n",
      "Pracownik 3:\n",
      "Klienci: [8, 7, 3, 2, 1]\n",
      "Czas oczekiwania: [1, 2, 3, 1, 1]\n"
     ]
    }
   ],
   "source": [
    "def knapsack_upgrade1(weights, capacity, m):\n",
    "    employer_graphics = [ [] for _ in range(m)]\n",
    "    employer_weights = [ [] for _ in range(m)]\n",
    "\n",
    "    for employer in range(m):\n",
    "\n",
    "        # ----- ALGORYTM PLEACAKOWY DLA JEDNEGO PLECAKA ------- \n",
    "        n = len(weights)\n",
    "        dp = [[0 for _ in range(capacity + 1)] for _ in range((n + 1))]\n",
    "        for i in range(1, n + 1):                                      \n",
    "            for w in range(capacity + 1):\n",
    "                if weights[i-1] == 0:\n",
    "                    dp[i][w] = dp[i - 1][w]\n",
    "                if weights[i - 1] > w:                                 \n",
    "                    dp[i][w] = dp[i - 1][w]\n",
    "                else:                                                  \n",
    "                    dp[i][w] = max(dp[i - 1][w], dp[i - 1][w - weights[i - 1]] + 1)\n",
    "\n",
    "        # --------- ZAPISYWANIE WARTOSCI DO TABLIC WEIGHTS / GRAPHICS -------------\n",
    "        w = capacity\n",
    "        j = m-1-employer\n",
    "        for i in range(n, 0, -1):\n",
    "            if dp[i][w] != dp[i - 1][w]:\n",
    "                w -= weights[i - 1] \n",
    "                if sum(employer_weights[j])+weights[i - 1] <= capacity and weights[i-1] != 0:\n",
    "                    employer_weights[j].append(weights[i-1])\n",
    "                    employer_graphics[j].append(i)\n",
    "\n",
    "        # -------- WSTAWIANIE 0 W MIEJSCE WAGI KTÓRĄ JUZ WYKORZYSTALISMY --------------\n",
    "        to_remove = employer_weights[j].copy()\n",
    "        for el in to_remove: \n",
    "            index = weights.index(el)\n",
    "            weights[index] = 0\n",
    "            \n",
    "        # kolejny pracownik wywołanie pętli i-te\n",
    "\n",
    "    print(f\"Wagi które zostały: {[el for el in weights if el > 0]}\")\n",
    "    return employer_graphics, employer_weights\n",
    "\n",
    "# testing\n",
    "weights = [1, 1, 3, 4, 5, 4, 2, 1, 3]\n",
    "capacity = 8\n",
    "employers_numbers = 3\n",
    "employer_graphics,employer_weights = knapsack_upgrade1(weights, capacity, employers_numbers)\n",
    "\n",
    "for i in range(employers_numbers):\n",
    "    print(\"\\nPracownik %i:\" % (i+1))\n",
    "    print(\"Klienci:\", employer_graphics[i])\n",
    "    print(\"Czas oczekiwania:\", employer_weights[i])\n"
   ]
  },
  {
   "cell_type": "markdown",
   "metadata": {},
   "source": [
    "Jak dla mnie ultra optymalne rozwiązanoe"
   ]
  }
 ],
 "metadata": {
  "kernelspec": {
   "display_name": "Python 3 (ipykernel)",
   "language": "python",
   "name": "python3"
  },
  "language_info": {
   "codemirror_mode": {
    "name": "ipython",
    "version": 3
   },
   "file_extension": ".py",
   "mimetype": "text/x-python",
   "name": "python",
   "nbconvert_exporter": "python",
   "pygments_lexer": "ipython3",
   "version": "3.9.7"
  }
 },
 "nbformat": 4,
 "nbformat_minor": 2
}
