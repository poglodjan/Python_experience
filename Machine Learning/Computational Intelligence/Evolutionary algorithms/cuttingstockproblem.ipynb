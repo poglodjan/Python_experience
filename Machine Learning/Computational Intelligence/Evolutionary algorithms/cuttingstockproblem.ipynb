{
 "cells": [
  {
   "cell_type": "markdown",
   "metadata": {},
   "source": [
    "# v1"
   ]
  },
  {
   "cell_type": "code",
   "execution_count": 9,
   "metadata": {},
   "outputs": [
    {
     "name": "stdout",
     "output_type": "stream",
     "text": [
      "Najlepsze rozmieszczenie prostokątów:\n",
      "Prostokąt: wysokość=2, szerokość=3, wartość=5, x=-6.481949797841486, y=-2.880192851194627\n",
      "Prostokąt: wysokość=1, szerokość=4, wartość=3, x=-0.651422167013278, y=4.520957382094705\n",
      "Prostokąt: wysokość=3, szerokość=3, wartość=6, x=3.2151216666285247, y=-1.4762913418811419\n",
      "Najlepsza wartość: 14\n"
     ]
    }
   ],
   "source": [
    "import numpy as np\n",
    "import random\n",
    "\n",
    "class Rectangle:\n",
    "    def __init__(self, height, width, value):\n",
    "        self.height = height\n",
    "        self.width = width\n",
    "        self.value = value\n",
    "\n",
    "class PositionedRectangle(Rectangle):\n",
    "    def __init__(self, height, width, value, x, y):\n",
    "        super().__init__(height, width, value)\n",
    "        self.x = x\n",
    "        self.y = y\n",
    "\n",
    "def initialize_population(rectangles, population_size, circle_radius):\n",
    "    population = []\n",
    "    for _ in range(population_size):\n",
    "        individual = []\n",
    "        for rect in rectangles:\n",
    "            while True:\n",
    "                x = random.uniform(-circle_radius, circle_radius)\n",
    "                y = random.uniform(-circle_radius, circle_radius)\n",
    "                if is_within_circle(x, y, rect.width, rect.height, circle_radius):\n",
    "                    individual.append(PositionedRectangle(rect.height, rect.width, rect.value, x, y))\n",
    "                    break\n",
    "        population.append(individual)\n",
    "    return population\n",
    "\n",
    "def is_within_circle(x, y, width, height, radius):\n",
    "    # sprawdzenie czy wszystkie rogi prostokąta są w kole\n",
    "    corners = [(x, y), (x + width, y), (x, y + height), (x + width, y + height)]\n",
    "    for corner in corners:\n",
    "        if np.sqrt(corner[0]**2 + corner[1]**2) > radius:\n",
    "            return False\n",
    "    return True\n",
    "\n",
    "def rectangles_do_not_overlap(rect1, rect2):\n",
    "    # sprawdzenie czy dwa prostokąty nie nachodzą na siebie\n",
    "    return (rect1.x + rect1.width <= rect2.x or rect2.x + rect2.width <= rect1.x or\n",
    "            rect1.y + rect1.height <= rect2.y or rect2.y + rect2.height <= rect1.y)\n",
    "\n",
    "def fitness(individual, circle_radius):\n",
    "    total_value = 0\n",
    "    for i, rect1 in enumerate(individual):\n",
    "        if is_within_circle(rect1.x, rect1.y, rect1.width, rect1.height, circle_radius):\n",
    "            overlap = False\n",
    "            for j, rect2 in enumerate(individual):\n",
    "                if i != j and not rectangles_do_not_overlap(rect1, rect2):\n",
    "                    overlap = True\n",
    "                    break\n",
    "            if not overlap:\n",
    "                total_value += rect1.value\n",
    "    return total_value\n",
    "\n",
    "def mutate(individual, circle_radius):\n",
    "    for rect in individual:\n",
    "        if random.random() < 0.2:\n",
    "            while True:\n",
    "                rect.x = random.uniform(-circle_radius, circle_radius)\n",
    "                rect.y = random.uniform(-circle_radius, circle_radius)\n",
    "                if is_within_circle(rect.x, rect.y, rect.width, rect.height, circle_radius):\n",
    "                    break\n",
    "    return individual\n",
    "\n",
    "def crossover(parent1, parent2):\n",
    "    if random.random() < 0.7:\n",
    "        point = random.randint(0, len(parent1) - 1)\n",
    "        child1 = parent1[:point] + parent2[point:]\n",
    "        child2 = parent2[:point] + parent1[point:]\n",
    "        return child1, child2\n",
    "    return parent1, parent2\n",
    "\n",
    "def genetic_algorithm(rectangles, circle_radius, population_size=100, generations=1000):\n",
    "    population = initialize_population(rectangles, population_size, circle_radius)\n",
    "    \n",
    "    for generation in range(generations):\n",
    "        population = sorted(population, key=lambda x: fitness(x, circle_radius), reverse=True)\n",
    "        new_population = population[:10]  # Elitizm\n",
    "        \n",
    "        while len(new_population) < population_size:\n",
    "            parent1 = random.choice(population[:50])  # Turniej\n",
    "            parent2 = random.choice(population[:50])\n",
    "            child1, child2 = crossover(parent1, parent2)\n",
    "            new_population.extend([mutate(child1, circle_radius), mutate(child2, circle_radius)])\n",
    "        \n",
    "        population = new_population\n",
    "\n",
    "    best_individual = max(population, key=lambda x: fitness(x, circle_radius))\n",
    "    return best_individual, fitness(best_individual, circle_radius)\n",
    "\n",
    "rectangles = [\n",
    "    Rectangle(2, 3, 5),\n",
    "    Rectangle(1, 4, 3),\n",
    "    Rectangle(3, 3, 6),\n",
    "]\n",
    "\n",
    "circle_radius = 10\n",
    "best_individual, best_fitness = genetic_algorithm(rectangles, circle_radius, generations=10000)\n",
    "\n",
    "print(\"Najlepsze rozmieszczenie prostokątów:\")\n",
    "for rect in best_individual:\n",
    "    print(f\"Prostokąt: wysokość={rect.height}, szerokość={rect.width}, wartość={rect.value}, x={rect.x}, y={rect.y}\")\n",
    "print(\"Najlepsza wartość:\", best_fitness)\n"
   ]
  },
  {
   "cell_type": "markdown",
   "metadata": {},
   "source": [
    "# v2"
   ]
  },
  {
   "cell_type": "code",
   "execution_count": 17,
   "metadata": {},
   "outputs": [
    {
     "name": "stdout",
     "output_type": "stream",
     "text": [
      "Najlepsze rozmieszczenie prostokątów:\n",
      "Prostokąt: wysokość=2, szerokość=3, wartość=5, x=-2.9030881862723046, y=2.6983849989816644\n",
      "Prostokąt: wysokość=2, szerokość=3, wartość=5, x=0.9237427885245442, y=7.087208767295323\n",
      "Prostokąt: wysokość=2, szerokość=3, wartość=5, x=4.635916540862198, y=-5.799824837927117\n",
      "Prostokąt: wysokość=2, szerokość=3, wartość=5, x=2.7768534031803593, y=4.747300089633317\n",
      "Prostokąt: wysokość=2, szerokość=3, wartość=5, x=0.26958798413241425, y=-2.350790495834671\n",
      "Prostokąt: wysokość=2, szerokość=3, wartość=5, x=5.526712680204701, y=2.3072778906030127\n",
      "Prostokąt: wysokość=2, szerokość=3, wartość=5, x=-0.8170386707700743, y=4.818347144663855\n",
      "Prostokąt: wysokość=2, szerokość=3, wartość=5, x=-6.076976108785366, y=-7.826280228817226\n",
      "Prostokąt: wysokość=2, szerokość=3, wartość=5, x=6.630175047179666, y=-2.5865666441237494\n",
      "Prostokąt: wysokość=2, szerokość=3, wartość=5, x=1.5985172613892278, y=1.5739368308480302\n",
      "Prostokąt: wysokość=2, szerokość=3, wartość=5, x=3.406940900902999, y=-3.196625112904492\n",
      "Prostokąt: wysokość=2, szerokość=3, wartość=5, x=-9.273013193210415, y=1.090966822590067\n",
      "Prostokąt: wysokość=2, szerokość=3, wartość=5, x=1.3035595165321325, y=-7.358212354009341\n",
      "Prostokąt: wysokość=2, szerokość=3, wartość=5, x=-1.2489972350114087, y=-5.049075791026583\n",
      "Prostokąt: wysokość=2, szerokość=3, wartość=5, x=-3.5822724511991844, y=6.986289469116109\n",
      "Prostokąt: wysokość=2, szerokość=3, wartość=5, x=-0.4078543048665644, y=-9.654299430332989\n",
      "Prostokąt: wysokość=2, szerokość=3, wartość=5, x=-1.7695785402361857, y=-0.027334879072890672\n",
      "Prostokąt: wysokość=2, szerokość=3, wartość=5, x=-9.364006506309206, y=-3.0732029203689777\n",
      "Prostokąt: wysokość=2, szerokość=3, wartość=5, x=-6.213705002198935, y=-5.67515526891108\n",
      "Prostokąt: wysokość=2, szerokość=3, wartość=5, x=3.305287551022184, y=-1.1366777135181305\n",
      "Prostokąt: wysokość=2, szerokość=3, wartość=5, x=-4.776078825740136, y=-1.7430770066611867\n",
      "Prostokąt: wysokość=2, szerokość=3, wartość=5, x=-6.196348682437121, y=2.4831004046224354\n",
      "Prostokąt: wysokość=2, szerokość=3, wartość=5, x=-6.429416798674281, y=4.668415766064076\n",
      "Prostokąt: wysokość=2, szerokość=3, wartość=5, x=-2.795514563537955, y=-7.272266381738346\n",
      "Prostokąt: wysokość=1, szerokość=4, wartość=3, x=-9.402980932697808, y=-0.25006129987621684\n",
      "Prostokąt: wysokość=1, szerokość=4, wartość=3, x=-6.091711968976254, y=-3.6046643672818313\n",
      "Najlepsza wartość: 126\n"
     ]
    }
   ],
   "source": [
    "import numpy as np\n",
    "import random\n",
    "\n",
    "class Rectangle:\n",
    "    def __init__(self, height, width, value):\n",
    "        self.height = height\n",
    "        self.width = width\n",
    "        self.value = value\n",
    "\n",
    "class PositionedRectangle(Rectangle):\n",
    "    def __init__(self, height, width, value, x, y):\n",
    "        super().__init__(height, width, value)\n",
    "        self.x = x\n",
    "        self.y = y\n",
    "\n",
    "def initialize_population(rectangles, population_size, circle_radius):\n",
    "    population = []\n",
    "    for _ in range(population_size):\n",
    "        individual = []\n",
    "        for rect in rectangles:\n",
    "            for _ in range(1000):  # Próbuj wielokrotnie wstawić prostokąt\n",
    "                x = random.uniform(-circle_radius, circle_radius)\n",
    "                y = random.uniform(-circle_radius, circle_radius)\n",
    "                if is_within_circle(x, y, rect.width, rect.height, circle_radius) and can_place(individual, rect, x, y):\n",
    "                    individual.append(PositionedRectangle(rect.height, rect.width, rect.value, x, y))\n",
    "        population.append(individual)\n",
    "    return population\n",
    "\n",
    "def is_within_circle(x, y, width, height, radius):\n",
    "    corners = [(x, y), (x + width, y), (x, y + height), (x + width, y + height)]\n",
    "    for corner in corners:\n",
    "        if np.sqrt(corner[0]**2 + corner[1]**2) > radius:\n",
    "            return False\n",
    "    return True\n",
    "\n",
    "def rectangles_do_not_overlap(rect1, rect2):\n",
    "    return (rect1.x + rect1.width <= rect2.x or rect2.x + rect2.width <= rect1.x or\n",
    "            rect1.y + rect1.height <= rect2.y or rect2.y + rect2.height <= rect1.y)\n",
    "\n",
    "def can_place(individual, new_rect, x, y):\n",
    "    new_rect_pos = PositionedRectangle(new_rect.height, new_rect.width, new_rect.value, x, y)\n",
    "    for rect in individual:\n",
    "        if not rectangles_do_not_overlap(rect, new_rect_pos):\n",
    "            return False\n",
    "    return True\n",
    "\n",
    "def fitness(individual, circle_radius):\n",
    "    total_value = 0\n",
    "    for i, rect1 in enumerate(individual):\n",
    "        if is_within_circle(rect1.x, rect1.y, rect1.width, rect1.height, circle_radius):\n",
    "            overlap = False\n",
    "            for j, rect2 in enumerate(individual):\n",
    "                if i != j and not rectangles_do_not_overlap(rect1, rect2):\n",
    "                    overlap = True\n",
    "                    break\n",
    "            if not overlap:\n",
    "                total_value += rect1.value\n",
    "    return total_value\n",
    "\n",
    "def mutate(individual, circle_radius):\n",
    "    for rect in individual:\n",
    "        if random.random() < 0.2:\n",
    "            for _ in range(100):  # Ograniczamy liczbę prób\n",
    "                new_x = random.uniform(-circle_radius, circle_radius)\n",
    "                new_y = random.uniform(-circle_radius, circle_radius)\n",
    "                if is_within_circle(new_x, new_y, rect.width, rect.height, circle_radius) and can_place(individual, rect, new_x, new_y):\n",
    "                    rect.x, rect.y = new_x, new_y\n",
    "                    break\n",
    "    return individual\n",
    "\n",
    "def crossover(parent1, parent2):\n",
    "    if random.random() < 0.7:\n",
    "        point = random.randint(0, len(parent1) - 1)\n",
    "        child1 = parent1[:point] + parent2[point:]\n",
    "        child2 = parent2[:point] + parent1[point:]\n",
    "        return child1, child2\n",
    "    return parent1, parent2\n",
    "\n",
    "def genetic_algorithm(rectangles, circle_radius, population_size=100, generations=1000):\n",
    "    population = initialize_population(rectangles, population_size, circle_radius)\n",
    "    \n",
    "    for generation in range(generations):\n",
    "        population = sorted(population, key=lambda x: fitness(x, circle_radius), reverse=True)\n",
    "        new_population = population[:10]\n",
    "        \n",
    "        while len(new_population) < population_size:\n",
    "            parent1 = random.choice(population[:50])\n",
    "            parent2 = random.choice(population[:50])\n",
    "            child1, child2 = crossover(parent1, parent2)\n",
    "            new_population.extend([mutate(child1, circle_radius), mutate(child2, circle_radius)])\n",
    "        population = new_population\n",
    "\n",
    "    best_individual = max(population, key=lambda x: fitness(x, circle_radius))\n",
    "    return best_individual, fitness(best_individual, circle_radius)\n",
    "\n",
    "rectangles = [\n",
    "    Rectangle(2, 3, 5),\n",
    "    Rectangle(1, 4, 3),\n",
    "    Rectangle(3, 3, 6),\n",
    "]\n",
    "\n",
    "circle_radius = 10\n",
    "best_individual, best_fitness = genetic_algorithm(rectangles, circle_radius, generations=100)\n",
    "\n",
    "print(\"Najlepsze rozmieszczenie prostokątów:\")\n",
    "for rect in best_individual:\n",
    "    print(f\"Prostokąt: wysokość={rect.height}, szerokość={rect.width}, wartość={rect.value}, x={rect.x}, y={rect.y}\")\n",
    "print(\"Najlepsza wartość:\", best_fitness)\n"
   ]
  },
  {
   "cell_type": "markdown",
   "metadata": {},
   "source": [
    "# test ver 1"
   ]
  },
  {
   "cell_type": "code",
   "execution_count": 10,
   "metadata": {},
   "outputs": [
    {
     "data": {
      "image/png": "[encoded data removed]",
      "text/plain": [
       "<Figure size 432x288 with 1 Axes>"
      ]
     },
     "metadata": {
      "needs_background": "light"
     },
     "output_type": "display_data"
    }
   ],
   "source": [
    "import matplotlib.pyplot as plt\n",
    "import matplotlib.patches as patches\n",
    "\n",
    "def visualize_solution(individual, circle_radius):\n",
    "    fig, ax = plt.subplots()\n",
    "    circle = plt.Circle((0, 0), circle_radius, color='blue', fill=False)\n",
    "    ax.add_artist(circle)\n",
    "    for rect in individual:\n",
    "        rectangle = patches.Rectangle((rect.x, rect.y), rect.width, rect.height, edgecolor='r', facecolor='none')\n",
    "        ax.add_patch(rectangle)\n",
    "    ax.set_xlim(-circle_radius-1, circle_radius+1)\n",
    "    ax.set_ylim(-circle_radius-1, circle_radius+1)\n",
    "    plt.gca().set_aspect('equal', adjustable='box')\n",
    "    plt.show()\n",
    "\n",
    "visualize_solution(best_individual, circle_radius)\n"
   ]
  },
  {
   "cell_type": "markdown",
   "metadata": {},
   "source": [
    "# ver 2"
   ]
  },
  {
   "cell_type": "markdown",
   "metadata": {},
   "source": [
    "# test 1"
   ]
  },
  {
   "cell_type": "code",
   "execution_count": 18,
   "metadata": {},
   "outputs": [
    {
     "data": {
      "image/png": "[encoded data removed]",
      "text/plain": [
       "<Figure size 432x288 with 1 Axes>"
      ]
     },
     "metadata": {
      "needs_background": "light"
     },
     "output_type": "display_data"
    }
   ],
   "source": [
    "import matplotlib.pyplot as plt\n",
    "import matplotlib.patches as patches\n",
    "\n",
    "def visualize_solution(individual, circle_radius):\n",
    "    fig, ax = plt.subplots()\n",
    "    circle = plt.Circle((0, 0), circle_radius, color='blue', fill=False)\n",
    "    ax.add_artist(circle)\n",
    "    for rect in individual:\n",
    "        rectangle = patches.Rectangle((rect.x, rect.y), rect.width, rect.height, edgecolor='r', facecolor='none')\n",
    "        ax.add_patch(rectangle)\n",
    "    ax.set_xlim(-circle_radius-1, circle_radius+1)\n",
    "    ax.set_ylim(-circle_radius-1, circle_radius+1)\n",
    "    plt.gca().set_aspect('equal', adjustable='box')\n",
    "    plt.show()\n",
    "\n",
    "visualize_solution(best_individual, circle_radius)\n"
   ]
  },
  {
   "cell_type": "markdown",
   "metadata": {},
   "source": [
    "# r800"
   ]
  },
  {
   "cell_type": "code",
   "execution_count": 19,
   "metadata": {},
   "outputs": [],
   "source": [
    "import pandas as pd\n",
    "file_path = 'r800.csv' \n",
    "data = pd.read_csv(file_path, header=None, names=['width', 'height', 'value'])"
   ]
  },
  {
   "cell_type": "code",
   "execution_count": 20,
   "metadata": {},
   "outputs": [],
   "source": [
    "rectangles = [Rectangle(row['width'], row['height'], row['value']) for index, row in data.iterrows()]"
   ]
  },
  {
   "cell_type": "code",
   "execution_count": 21,
   "metadata": {},
   "outputs": [
    {
     "name": "stdout",
     "output_type": "stream",
     "text": [
      "Najlepsze rozmieszczenie prostokątów:\n",
      "Najlepsza wartość: 7480\n"
     ]
    }
   ],
   "source": [
    "circle_radius = 800\n",
    "best_individual, best_fitness = genetic_algorithm(rectangles, circle_radius, generations=100)\n",
    "\n",
    "print(\"Najlepsze rozmieszczenie prostokątów:\")\n",
    "print(\"Najlepsza wartość:\", best_fitness)"
   ]
  },
  {
   "cell_type": "code",
   "execution_count": 22,
   "metadata": {},
   "outputs": [
    {
     "data": {
      "image/png": "[encoded data removed]",
      "text/plain": [
       "<Figure size 432x288 with 1 Axes>"
      ]
     },
     "metadata": {
      "needs_background": "light"
     },
     "output_type": "display_data"
    }
   ],
   "source": [
    "visualize_solution(best_individual, circle_radius)"
   ]
  },
  {
   "cell_type": "markdown",
   "metadata": {},
   "source": [
    "# r850"
   ]
  },
  {
   "cell_type": "code",
   "execution_count": 26,
   "metadata": {},
   "outputs": [],
   "source": [
    "import pandas as pd\n",
    "file_path = 'r850.csv' \n",
    "data = pd.read_csv(file_path, header=None, names=['width', 'height', 'value'])\n",
    "rectangles = [Rectangle(row['width'], row['height'], row['value']) for index, row in data.iterrows()]"
   ]
  },
  {
   "cell_type": "code",
   "execution_count": 27,
   "metadata": {},
   "outputs": [
    {
     "name": "stdout",
     "output_type": "stream",
     "text": [
      "Najlepsza wartość: 50190\n"
     ]
    }
   ],
   "source": [
    "circle_radius = 850\n",
    "best_individual, best_fitness = genetic_algorithm(rectangles, circle_radius, generations=50)\n",
    "\n",
    "print(\"Najlepsza wartość:\", best_fitness)"
   ]
  },
  {
   "cell_type": "code",
   "execution_count": 28,
   "metadata": {},
   "outputs": [
    {
     "data": {
      "image/png": "[encoded data removed]",
      "text/plain": [
       "<Figure size 432x288 with 1 Axes>"
      ]
     },
     "metadata": {
      "needs_background": "light"
     },
     "output_type": "display_data"
    }
   ],
   "source": [
    "visualize_solution(best_individual, circle_radius)"
   ]
  },
  {
   "cell_type": "markdown",
   "metadata": {},
   "source": [
    "# r1000"
   ]
  },
  {
   "cell_type": "code",
   "execution_count": 29,
   "metadata": {},
   "outputs": [],
   "source": [
    "import pandas as pd\n",
    "file_path = 'r1000.csv' \n",
    "data = pd.read_csv(file_path, header=None, names=['width', 'height', 'value'])\n",
    "rectangles = [Rectangle(row['width'], row['height'], row['value']) for index, row in data.iterrows()]"
   ]
  },
  {
   "cell_type": "code",
   "execution_count": 33,
   "metadata": {},
   "outputs": [
    {
     "name": "stdout",
     "output_type": "stream",
     "text": [
      "Najlepsza wartość: 12540\n"
     ]
    }
   ],
   "source": [
    "circle_radius = 1000\n",
    "best_individual, best_fitness = genetic_algorithm(rectangles, circle_radius, generations=100)\n",
    "print(\"Najlepsza wartość:\", best_fitness)"
   ]
  },
  {
   "cell_type": "markdown",
   "metadata": {},
   "source": [
    "# 50 generacji"
   ]
  },
  {
   "cell_type": "code",
   "execution_count": 32,
   "metadata": {},
   "outputs": [
    {
     "data": {
      "image/png": "[encoded data removed]",
      "text/plain": [
       "<Figure size 432x288 with 1 Axes>"
      ]
     },
     "metadata": {
      "needs_background": "light"
     },
     "output_type": "display_data"
    }
   ],
   "source": [
    "visualize_solution(best_individual, circle_radius)"
   ]
  },
  {
   "cell_type": "markdown",
   "metadata": {},
   "source": [
    "# 100 generacji"
   ]
  },
  {
   "cell_type": "code",
   "execution_count": 34,
   "metadata": {},
   "outputs": [
    {
     "data": {
      "image/png": "[encoded data removed]",
      "text/plain": [
       "<Figure size 432x288 with 1 Axes>"
      ]
     },
     "metadata": {
      "needs_background": "light"
     },
     "output_type": "display_data"
    }
   ],
   "source": [
    "visualize_solution(best_individual, circle_radius)"
   ]
  },
  {
   "cell_type": "markdown",
   "metadata": {},
   "source": [
    "# r1100"
   ]
  },
  {
   "cell_type": "code",
   "execution_count": 35,
   "metadata": {},
   "outputs": [],
   "source": [
    "import pandas as pd\n",
    "file_path = 'r1100.csv' \n",
    "data = pd.read_csv(file_path, header=None, names=['width', 'height', 'value'])\n",
    "rectangles = [Rectangle(row['width'], row['height'], row['value']) for index, row in data.iterrows()]"
   ]
  },
  {
   "cell_type": "code",
   "execution_count": 36,
   "metadata": {},
   "outputs": [
    {
     "name": "stdout",
     "output_type": "stream",
     "text": [
      "Najlepsze rozmieszczenie prostokątów:\n"
     ]
    }
   ],
   "source": [
    "circle_radius = 1100\n",
    "best_individual, best_fitness = genetic_algorithm(rectangles, circle_radius, generations=100)\n",
    "\n",
    "print(\"Najlepsze rozmieszczenie prostokątów:\")"
   ]
  },
  {
   "cell_type": "code",
   "execution_count": 38,
   "metadata": {},
   "outputs": [
    {
     "data": {
      "text/plain": [
       "7240"
      ]
     },
     "execution_count": 38,
     "metadata": {},
     "output_type": "execute_result"
    }
   ],
   "source": [
    "best_fitness"
   ]
  },
  {
   "cell_type": "code",
   "execution_count": 39,
   "metadata": {},
   "outputs": [
    {
     "data": {
      "image/png": "[encoded data removed]",
      "text/plain": [
       "<Figure size 432x288 with 1 Axes>"
      ]
     },
     "metadata": {
      "needs_background": "light"
     },
     "output_type": "display_data"
    }
   ],
   "source": [
    "visualize_solution(best_individual, circle_radius)"
   ]
  },
  {
   "cell_type": "markdown",
   "metadata": {},
   "source": [
    "# r1200"
   ]
  },
  {
   "cell_type": "code",
   "execution_count": 40,
   "metadata": {},
   "outputs": [],
   "source": [
    "import pandas as pd\n",
    "file_path = 'r1200.csv' \n",
    "data = pd.read_csv(file_path, header=None, names=['width', 'height', 'value'])\n",
    "rectangles = [Rectangle(row['width'], row['height'], row['value']) for index, row in data.iterrows()]"
   ]
  },
  {
   "cell_type": "code",
   "execution_count": 41,
   "metadata": {},
   "outputs": [
    {
     "name": "stdout",
     "output_type": "stream",
     "text": [
      "Najlepsza wartość: 18420\n"
     ]
    }
   ],
   "source": [
    "circle_radius = 1200\n",
    "best_individual, best_fitness = genetic_algorithm(rectangles, circle_radius, generations=100)\n",
    "\n",
    "print(\"Najlepsza wartość:\", best_fitness)"
   ]
  },
  {
   "cell_type": "code",
   "execution_count": 42,
   "metadata": {},
   "outputs": [
    {
     "data": {
      "image/png": "[encoded data removed]",
      "text/plain": [
       "<Figure size 432x288 with 1 Axes>"
      ]
     },
     "metadata": {
      "needs_background": "light"
     },
     "output_type": "display_data"
    }
   ],
   "source": [
    "visualize_solution(best_individual, circle_radius)"
   ]
  },
  {
   "cell_type": "code",
   "execution_count": 46,
   "metadata": {},
   "outputs": [
    {
     "name": "stdout",
     "output_type": "stream",
     "text": [
      "Najlepsza wartość: 18640\n"
     ]
    }
   ],
   "source": [
    "circle_radius = 1200\n",
    "best_individual, best_fitness = genetic_algorithm(rectangles, circle_radius, generations=500)\n",
    "\n",
    "print(\"Najlepsza wartość:\", best_fitness)"
   ]
  },
  {
   "cell_type": "code",
   "execution_count": 47,
   "metadata": {},
   "outputs": [
    {
     "data": {
      "image/png": "[encoded data removed]",
      "text/plain": [
       "<Figure size 432x288 with 1 Axes>"
      ]
     },
     "metadata": {
      "needs_background": "light"
     },
     "output_type": "display_data"
    }
   ],
   "source": [
    "visualize_solution(best_individual, circle_radius)"
   ]
  },
  {
   "cell_type": "code",
   "execution_count": null,
   "metadata": {},
   "outputs": [],
   "source": []
  }
 ],
 "metadata": {
  "kernelspec": {
   "display_name": "base",
   "language": "python",
   "name": "python3"
  },
  "language_info": {
   "codemirror_mode": {
    "name": "ipython",
    "version": 3
   },
   "file_extension": ".py",
   "mimetype": "text/x-python",
   "name": "python",
   "nbconvert_exporter": "python",
   "pygments_lexer": "ipython3",
   "version": "3.9.7"
  }
 },
 "nbformat": 4,
 "nbformat_minor": 2
}
