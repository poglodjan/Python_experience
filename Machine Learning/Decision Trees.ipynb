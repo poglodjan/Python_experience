{
 "cells": [
  {
   "cell_type": "markdown",
   "metadata": {},
   "source": [
    "0.1 zbadanie zbioru danych"
   ]
  },
  {
   "cell_type": "code",
   "execution_count": 3,
   "metadata": {},
   "outputs": [],
   "source": [
    "import numpy as np\n",
    "import pandas as pd\n",
    "from sklearn import tree"
   ]
  },
  {
   "cell_type": "code",
   "execution_count": 41,
   "metadata": {},
   "outputs": [],
   "source": [
    "X = pd.read_csv(\"X.csv\")\n",
    "y = pd.read_csv(\"y.csv\")"
   ]
  },
  {
   "cell_type": "code",
   "execution_count": 5,
   "metadata": {},
   "outputs": [
    {
     "name": "stdout",
     "output_type": "stream",
     "text": [
      "NaN in X: False, NaN in y: False\n"
     ]
    },
    {
     "data": {
      "text/html": [
       "<div>\n",
       "<style scoped>\n",
       "    .dataframe tbody tr th:only-of-type {\n",
       "        vertical-align: middle;\n",
       "    }\n",
       "\n",
       "    .dataframe tbody tr th {\n",
       "        vertical-align: top;\n",
       "    }\n",
       "\n",
       "    .dataframe thead th {\n",
       "        text-align: right;\n",
       "    }\n",
       "</style>\n",
       "<table border=\"1\" class=\"dataframe\">\n",
       "  <thead>\n",
       "    <tr style=\"text-align: right;\">\n",
       "      <th></th>\n",
       "      <th>0</th>\n",
       "      <th>1</th>\n",
       "      <th>2</th>\n",
       "      <th>3</th>\n",
       "      <th>4</th>\n",
       "      <th>5</th>\n",
       "      <th>6</th>\n",
       "      <th>7</th>\n",
       "      <th>8</th>\n",
       "      <th>9</th>\n",
       "      <th>...</th>\n",
       "      <th>12</th>\n",
       "      <th>13</th>\n",
       "      <th>14</th>\n",
       "      <th>15</th>\n",
       "      <th>16</th>\n",
       "      <th>17</th>\n",
       "      <th>18</th>\n",
       "      <th>19</th>\n",
       "      <th>20</th>\n",
       "      <th>21</th>\n",
       "    </tr>\n",
       "  </thead>\n",
       "  <tbody>\n",
       "    <tr>\n",
       "      <th>count</th>\n",
       "      <td>20000.000000</td>\n",
       "      <td>20000.000000</td>\n",
       "      <td>20000.000000</td>\n",
       "      <td>20000.000000</td>\n",
       "      <td>20000.000000</td>\n",
       "      <td>20000.000000</td>\n",
       "      <td>20000.000000</td>\n",
       "      <td>20000.000000</td>\n",
       "      <td>20000.000000</td>\n",
       "      <td>20000.000000</td>\n",
       "      <td>...</td>\n",
       "      <td>20000.000000</td>\n",
       "      <td>20000.000000</td>\n",
       "      <td>20000.000000</td>\n",
       "      <td>20000.000000</td>\n",
       "      <td>20000.000000</td>\n",
       "      <td>20000.000000</td>\n",
       "      <td>20000.000000</td>\n",
       "      <td>20000.000000</td>\n",
       "      <td>20000.000000</td>\n",
       "      <td>20000.000000</td>\n",
       "    </tr>\n",
       "    <tr>\n",
       "      <th>mean</th>\n",
       "      <td>-0.990822</td>\n",
       "      <td>1.014808</td>\n",
       "      <td>1.665585</td>\n",
       "      <td>-0.001308</td>\n",
       "      <td>0.998266</td>\n",
       "      <td>0.935226</td>\n",
       "      <td>-1.151749</td>\n",
       "      <td>0.006466</td>\n",
       "      <td>-0.474856</td>\n",
       "      <td>0.482260</td>\n",
       "      <td>...</td>\n",
       "      <td>-0.537654</td>\n",
       "      <td>0.487673</td>\n",
       "      <td>0.991479</td>\n",
       "      <td>-0.485309</td>\n",
       "      <td>0.109168</td>\n",
       "      <td>-0.028626</td>\n",
       "      <td>-1.067992</td>\n",
       "      <td>-0.516966</td>\n",
       "      <td>-0.523011</td>\n",
       "      <td>0.495853</td>\n",
       "    </tr>\n",
       "    <tr>\n",
       "      <th>std</th>\n",
       "      <td>2.533538</td>\n",
       "      <td>2.559406</td>\n",
       "      <td>4.169419</td>\n",
       "      <td>2.466601</td>\n",
       "      <td>2.648318</td>\n",
       "      <td>5.649145</td>\n",
       "      <td>4.717559</td>\n",
       "      <td>2.710963</td>\n",
       "      <td>2.567599</td>\n",
       "      <td>2.645808</td>\n",
       "      <td>...</td>\n",
       "      <td>2.474764</td>\n",
       "      <td>2.667311</td>\n",
       "      <td>2.128109</td>\n",
       "      <td>2.454020</td>\n",
       "      <td>7.447092</td>\n",
       "      <td>2.546310</td>\n",
       "      <td>6.903139</td>\n",
       "      <td>2.592681</td>\n",
       "      <td>2.417530</td>\n",
       "      <td>2.568144</td>\n",
       "    </tr>\n",
       "    <tr>\n",
       "      <th>min</th>\n",
       "      <td>-12.104230</td>\n",
       "      <td>-9.290618</td>\n",
       "      <td>-15.987696</td>\n",
       "      <td>-10.949135</td>\n",
       "      <td>-9.331294</td>\n",
       "      <td>-24.258505</td>\n",
       "      <td>-23.191849</td>\n",
       "      <td>-10.189523</td>\n",
       "      <td>-10.601337</td>\n",
       "      <td>-11.399415</td>\n",
       "      <td>...</td>\n",
       "      <td>-11.443054</td>\n",
       "      <td>-9.837952</td>\n",
       "      <td>-8.387989</td>\n",
       "      <td>-10.112895</td>\n",
       "      <td>-31.287311</td>\n",
       "      <td>-11.102665</td>\n",
       "      <td>-30.804629</td>\n",
       "      <td>-10.974213</td>\n",
       "      <td>-9.885034</td>\n",
       "      <td>-11.448439</td>\n",
       "    </tr>\n",
       "    <tr>\n",
       "      <th>25%</th>\n",
       "      <td>-2.707434</td>\n",
       "      <td>-0.714810</td>\n",
       "      <td>-1.128144</td>\n",
       "      <td>-1.636439</td>\n",
       "      <td>-0.782698</td>\n",
       "      <td>-2.798393</td>\n",
       "      <td>-4.169573</td>\n",
       "      <td>-1.828874</td>\n",
       "      <td>-2.194777</td>\n",
       "      <td>-1.233035</td>\n",
       "      <td>...</td>\n",
       "      <td>-2.199504</td>\n",
       "      <td>-1.324292</td>\n",
       "      <td>-0.410578</td>\n",
       "      <td>-2.141069</td>\n",
       "      <td>-4.731856</td>\n",
       "      <td>-1.719152</td>\n",
       "      <td>-5.736438</td>\n",
       "      <td>-2.246697</td>\n",
       "      <td>-2.169899</td>\n",
       "      <td>-1.191535</td>\n",
       "    </tr>\n",
       "    <tr>\n",
       "      <th>50%</th>\n",
       "      <td>-0.983304</td>\n",
       "      <td>1.029255</td>\n",
       "      <td>1.675350</td>\n",
       "      <td>-0.028367</td>\n",
       "      <td>1.001263</td>\n",
       "      <td>0.943060</td>\n",
       "      <td>-1.295579</td>\n",
       "      <td>0.002040</td>\n",
       "      <td>-0.456888</td>\n",
       "      <td>0.576149</td>\n",
       "      <td>...</td>\n",
       "      <td>-0.534837</td>\n",
       "      <td>0.419698</td>\n",
       "      <td>0.979367</td>\n",
       "      <td>-0.467825</td>\n",
       "      <td>0.433366</td>\n",
       "      <td>0.013086</td>\n",
       "      <td>-1.097616</td>\n",
       "      <td>-0.602580</td>\n",
       "      <td>-0.530794</td>\n",
       "      <td>0.547993</td>\n",
       "    </tr>\n",
       "    <tr>\n",
       "      <th>75%</th>\n",
       "      <td>0.725665</td>\n",
       "      <td>2.725509</td>\n",
       "      <td>4.466684</td>\n",
       "      <td>1.652345</td>\n",
       "      <td>2.780460</td>\n",
       "      <td>4.743359</td>\n",
       "      <td>1.724221</td>\n",
       "      <td>1.833811</td>\n",
       "      <td>1.218696</td>\n",
       "      <td>2.261885</td>\n",
       "      <td>...</td>\n",
       "      <td>1.177321</td>\n",
       "      <td>2.292517</td>\n",
       "      <td>2.374630</td>\n",
       "      <td>1.208592</td>\n",
       "      <td>5.259142</td>\n",
       "      <td>1.677521</td>\n",
       "      <td>3.602774</td>\n",
       "      <td>1.123501</td>\n",
       "      <td>1.136426</td>\n",
       "      <td>2.239951</td>\n",
       "    </tr>\n",
       "    <tr>\n",
       "      <th>max</th>\n",
       "      <td>9.622820</td>\n",
       "      <td>11.149883</td>\n",
       "      <td>17.847301</td>\n",
       "      <td>9.621315</td>\n",
       "      <td>10.563514</td>\n",
       "      <td>25.974307</td>\n",
       "      <td>23.201497</td>\n",
       "      <td>11.018109</td>\n",
       "      <td>9.118540</td>\n",
       "      <td>11.062953</td>\n",
       "      <td>...</td>\n",
       "      <td>8.652609</td>\n",
       "      <td>10.734521</td>\n",
       "      <td>10.637907</td>\n",
       "      <td>9.132670</td>\n",
       "      <td>28.848156</td>\n",
       "      <td>9.973445</td>\n",
       "      <td>28.429306</td>\n",
       "      <td>9.852170</td>\n",
       "      <td>8.665101</td>\n",
       "      <td>10.646244</td>\n",
       "    </tr>\n",
       "  </tbody>\n",
       "</table>\n",
       "<p>8 rows × 22 columns</p>\n",
       "</div>"
      ],
      "text/plain": [
       "                  0             1             2             3             4  \\\n",
       "count  20000.000000  20000.000000  20000.000000  20000.000000  20000.000000   \n",
       "mean      -0.990822      1.014808      1.665585     -0.001308      0.998266   \n",
       "std        2.533538      2.559406      4.169419      2.466601      2.648318   \n",
       "min      -12.104230     -9.290618    -15.987696    -10.949135     -9.331294   \n",
       "25%       -2.707434     -0.714810     -1.128144     -1.636439     -0.782698   \n",
       "50%       -0.983304      1.029255      1.675350     -0.028367      1.001263   \n",
       "75%        0.725665      2.725509      4.466684      1.652345      2.780460   \n",
       "max        9.622820     11.149883     17.847301      9.621315     10.563514   \n",
       "\n",
       "                  5             6             7             8             9  \\\n",
       "count  20000.000000  20000.000000  20000.000000  20000.000000  20000.000000   \n",
       "mean       0.935226     -1.151749      0.006466     -0.474856      0.482260   \n",
       "std        5.649145      4.717559      2.710963      2.567599      2.645808   \n",
       "min      -24.258505    -23.191849    -10.189523    -10.601337    -11.399415   \n",
       "25%       -2.798393     -4.169573     -1.828874     -2.194777     -1.233035   \n",
       "50%        0.943060     -1.295579      0.002040     -0.456888      0.576149   \n",
       "75%        4.743359      1.724221      1.833811      1.218696      2.261885   \n",
       "max       25.974307     23.201497     11.018109      9.118540     11.062953   \n",
       "\n",
       "       ...            12            13            14            15  \\\n",
       "count  ...  20000.000000  20000.000000  20000.000000  20000.000000   \n",
       "mean   ...     -0.537654      0.487673      0.991479     -0.485309   \n",
       "std    ...      2.474764      2.667311      2.128109      2.454020   \n",
       "min    ...    -11.443054     -9.837952     -8.387989    -10.112895   \n",
       "25%    ...     -2.199504     -1.324292     -0.410578     -2.141069   \n",
       "50%    ...     -0.534837      0.419698      0.979367     -0.467825   \n",
       "75%    ...      1.177321      2.292517      2.374630      1.208592   \n",
       "max    ...      8.652609     10.734521     10.637907      9.132670   \n",
       "\n",
       "                 16            17            18            19            20  \\\n",
       "count  20000.000000  20000.000000  20000.000000  20000.000000  20000.000000   \n",
       "mean       0.109168     -0.028626     -1.067992     -0.516966     -0.523011   \n",
       "std        7.447092      2.546310      6.903139      2.592681      2.417530   \n",
       "min      -31.287311    -11.102665    -30.804629    -10.974213     -9.885034   \n",
       "25%       -4.731856     -1.719152     -5.736438     -2.246697     -2.169899   \n",
       "50%        0.433366      0.013086     -1.097616     -0.602580     -0.530794   \n",
       "75%        5.259142      1.677521      3.602774      1.123501      1.136426   \n",
       "max       28.848156      9.973445     28.429306      9.852170      8.665101   \n",
       "\n",
       "                 21  \n",
       "count  20000.000000  \n",
       "mean       0.495853  \n",
       "std        2.568144  \n",
       "min      -11.448439  \n",
       "25%       -1.191535  \n",
       "50%        0.547993  \n",
       "75%        2.239951  \n",
       "max       10.646244  \n",
       "\n",
       "[8 rows x 22 columns]"
      ]
     },
     "execution_count": 5,
     "metadata": {},
     "output_type": "execute_result"
    }
   ],
   "source": [
    "print(\"NaN in X: \" + str(X.isna().any().any()) + \", NaN in y: \" + str(y.isna().any().any()))\n",
    "X.describe()"
   ]
  },
  {
   "cell_type": "code",
   "execution_count": 42,
   "metadata": {},
   "outputs": [
    {
     "name": "stdout",
     "output_type": "stream",
     "text": [
      "X train set shape: (14000, 22)\n",
      "X test set shape: (6000, 22)\n",
      "y train set shape: (14000, 1)\n",
      "y test set shape: (6000, 1)\n"
     ]
    }
   ],
   "source": [
    "from sklearn.model_selection import train_test_split\n",
    "X_train, X_test, y_train, y_test = train_test_split(X,y, test_size=0.3, random_state=320575)\n",
    "print(\"X train set shape: \" + str(X_train.shape) + \"\\nX test set shape: \" + str(X_test.shape) + \"\\ny train set shape: \" + str(y_train.shape) + \"\\ny test set shape: \" + str(y_test.shape))"
   ]
  },
  {
   "cell_type": "markdown",
   "metadata": {},
   "source": [
    "0.2 Model 1 - criterion Gini, walidacja z podziałem na 6 zbiorów, bez innych parametrów"
   ]
  },
  {
   "cell_type": "code",
   "execution_count": 61,
   "metadata": {},
   "outputs": [
    {
     "name": "stdout",
     "output_type": "stream",
     "text": [
      "Mean=0.8171,\n",
      "Std=0.0076\n"
     ]
    }
   ],
   "source": [
    "from sklearn import tree\n",
    "from sklearn.model_selection import cross_val_score\n",
    "model1 = tree.DecisionTreeClassifier(random_state=320575,criterion=\"gini\")\n",
    "scores_all = []\n",
    "scores = cross_val_score(model1, X_train, y_train, cv = 6)\n",
    "print(\"Mean=%0.4f,\\nStd=%0.4f\" % (scores.mean(), scores.std()))"
   ]
  },
  {
   "cell_type": "code",
   "execution_count": 8,
   "metadata": {},
   "outputs": [
    {
     "name": "stdout",
     "output_type": "stream",
     "text": [
      "MSE=0.1830,\n",
      "Accuracy=0.8170,\n",
      "Recall=0.8144,\n",
      "Precision=0.8199\n"
     ]
    }
   ],
   "source": [
    "from sklearn.metrics import mean_squared_error, accuracy_score, recall_score, precision_score\n",
    "model1 = model1.fit(X_train, y_train)\n",
    "y_pred = model1.predict(X_test)\n",
    "print(\"MSE=%0.4f,\\nAccuracy=%0.4f,\\nRecall=%0.4f,\\nPrecision=%0.4f\" % (mean_squared_error(y_test, y_pred),accuracy_score(y_test,y_pred),recall_score(y_test,y_pred),precision_score(y_test,y_pred)))"
   ]
  },
  {
   "cell_type": "markdown",
   "metadata": {},
   "source": [
    "1. Ponizej przeprowadzę dwie metody wyznaczenia parametru max_depth, min_samples_leaf:"
   ]
  },
  {
   "cell_type": "markdown",
   "metadata": {},
   "source": [
    "1.1 Wyznaczanie max_depth za pomocą fit, bez kroswalidacji"
   ]
  },
  {
   "cell_type": "code",
   "execution_count": 9,
   "metadata": {},
   "outputs": [],
   "source": [
    "mse_train = []\n",
    "mse_test = []\n",
    "scores = []\n",
    "accuracies = []\n",
    "clfs = []\n",
    "for i in range(2,30):\n",
    "    model_i = tree.DecisionTreeClassifier(random_state=320575,criterion=\"gini\",max_depth=i)\n",
    "    model_i = model_i.fit(X_train, y_train)\n",
    "    y_pred_train_i = model_i.predict(X_train)\n",
    "    y_pred_test_i = model_i.predict(X_test)\n",
    "    mse_train.append(mean_squared_error(y_train, y_pred_train_i))\n",
    "    mse_test.append(mean_squared_error(y_test, y_pred_test_i))\n",
    "    scores.append(model_i.score(X_test, y_test))\n",
    "    clfs.append(model_i)"
   ]
  },
  {
   "cell_type": "code",
   "execution_count": 10,
   "metadata": {},
   "outputs": [
    {
     "name": "stdout",
     "output_type": "stream",
     "text": [
      "Najlepsza wartość max_depth = 12\n"
     ]
    },
    {
     "data": {
      "image/png": "[encoded data removed]",
      "text/plain": [
       "<Figure size 432x288 with 1 Axes>"
      ]
     },
     "metadata": {
      "needs_background": "light"
     },
     "output_type": "display_data"
    }
   ],
   "source": [
    "import matplotlib.pyplot as plt\n",
    "plt.plot(range(2,30), mse_train, label=\"train\")\n",
    "plt.plot(range(2,30), mse_test, label=\"test\")\n",
    "plt.xlabel(\"max depth\")\n",
    "plt.ylabel(\"MSE\")\n",
    "plt.legend()\n",
    "best_depth_mse = range(2,30)[mse_test.index(min(mse_test))]\n",
    "print(\"Najlepsza wartość max_depth = %i\" % best_depth_mse)"
   ]
  },
  {
   "cell_type": "code",
   "execution_count": 11,
   "metadata": {},
   "outputs": [
    {
     "name": "stdout",
     "output_type": "stream",
     "text": [
      "Najlepsza wartość max_depth = 12\n"
     ]
    },
    {
     "data": {
      "image/png": "[encoded data removed]",
      "text/plain": [
       "<Figure size 432x288 with 1 Axes>"
      ]
     },
     "metadata": {
      "needs_background": "light"
     },
     "output_type": "display_data"
    }
   ],
   "source": [
    "import matplotlib.pyplot as plt\n",
    "plt.plot(range(2,30), scores, label=\"score\")\n",
    "plt.xlabel(\"max depth\")\n",
    "plt.ylabel(\"score\")\n",
    "plt.legend()\n",
    "\n",
    "best_max_depth = range(2, 30)[scores.index(max(scores))]\n",
    "print(\"Najlepsza wartość max_depth = %i\" % best_max_depth)"
   ]
  },
  {
   "cell_type": "markdown",
   "metadata": {},
   "source": [
    "1.2 Po wartościach mse i scorów dla zbioru treningowego otrzymaliśmy, ze najlepszy parametr dla depth to 12\n",
    "Kroswalidacja dla parametru max_depth = 12, criterion \"gini\""
   ]
  },
  {
   "cell_type": "code",
   "execution_count": 12,
   "metadata": {},
   "outputs": [
    {
     "name": "stdout",
     "output_type": "stream",
     "text": [
      "Mean=0.8230,\n",
      "Std=0.0048\n"
     ]
    }
   ],
   "source": [
    "model2 = tree.DecisionTreeClassifier(random_state=320575,criterion=\"gini\", max_depth=12)\n",
    "scores_depth12 = cross_val_score(model2, X_train, y_train, cv = 6)\n",
    "print(\"Mean=%0.4f,\\nStd=%0.4f\" % (scores_depth12.mean(), scores_depth12.std()))"
   ]
  },
  {
   "cell_type": "markdown",
   "metadata": {},
   "source": [
    "1.3 Dla otrzymanego parametru max_depth = 12 badam teraz jaki jest najlepszy parametr min_samples_leaf"
   ]
  },
  {
   "cell_type": "code",
   "execution_count": 13,
   "metadata": {},
   "outputs": [],
   "source": [
    "mse_train = []\n",
    "mse_test = []\n",
    "scores = []\n",
    "accuracies = []\n",
    "clfs = []\n",
    "for i in range(2,15):\n",
    "    model_i = tree.DecisionTreeClassifier(random_state=320575,criterion=\"gini\", min_samples_leaf=i, max_depth=12)\n",
    "    model_i = model_i.fit(X_train, y_train)\n",
    "    y_pred_train_i = model_i.predict(X_train)\n",
    "    y_pred_test_i = model_i.predict(X_test)\n",
    "    mse_train.append(mean_squared_error(y_train, y_pred_train_i))\n",
    "    mse_test.append(mean_squared_error(y_test, y_pred_test_i))\n",
    "    scores.append(model_i.score(X_test, y_test))\n",
    "    clfs.append(model_i)\n"
   ]
  },
  {
   "cell_type": "code",
   "execution_count": 14,
   "metadata": {},
   "outputs": [
    {
     "name": "stdout",
     "output_type": "stream",
     "text": [
      "Najlepsza wartość min_samples_leaf = 3\n"
     ]
    },
    {
     "data": {
      "image/png": "[encoded data removed]",
      "text/plain": [
       "<Figure size 432x288 with 1 Axes>"
      ]
     },
     "metadata": {
      "needs_background": "light"
     },
     "output_type": "display_data"
    }
   ],
   "source": [
    "plt.plot(range(2,15), mse_train, label=\"train\")\n",
    "plt.plot(range(2,15), mse_test, label=\"test\")\n",
    "plt.xlabel(\"min samples leaf\")\n",
    "plt.ylabel(\"MSE\")\n",
    "plt.legend()\n",
    "best_samples = range(2,15)[mse_test.index(min(mse_test))]\n",
    "print(\"Najlepsza wartość min_samples_leaf = %i\" % best_samples)"
   ]
  },
  {
   "cell_type": "code",
   "execution_count": 15,
   "metadata": {},
   "outputs": [
    {
     "name": "stdout",
     "output_type": "stream",
     "text": [
      "Najlepsza wartość min_samples_leaf = 3\n"
     ]
    },
    {
     "data": {
      "image/png": "[encoded data removed]",
      "text/plain": [
       "<Figure size 432x288 with 1 Axes>"
      ]
     },
     "metadata": {
      "needs_background": "light"
     },
     "output_type": "display_data"
    }
   ],
   "source": [
    "plt.plot(range(2,15), scores, label=\"score\")\n",
    "plt.xlabel(\"min samples leaf\")\n",
    "plt.ylabel(\"score\")\n",
    "plt.legend()\n",
    "best_samples_score = range(2,15)[mse_test.index(min(mse_test))]\n",
    "print(\"Najlepsza wartość min_samples_leaf = %i\" % best_samples_score)"
   ]
  },
  {
   "cell_type": "markdown",
   "metadata": {},
   "source": [
    "1.4 Za pomocą powyzszych metod otrzymaliśmy max_depth = 12, min_samples_leaf = 3 przy criterion=\"gini\"\n",
    "Sprawdzmy skuteczność takiego modelu za pomocą kroswalidacji:"
   ]
  },
  {
   "cell_type": "code",
   "execution_count": 16,
   "metadata": {},
   "outputs": [
    {
     "name": "stdout",
     "output_type": "stream",
     "text": [
      "Średnia wyznaczona za pomocą metody 1: 0.822072\n",
      "Odchylenie standardowe: 0.003569\n"
     ]
    }
   ],
   "source": [
    "model_metoda1 = tree.DecisionTreeClassifier(random_state=320575, criterion=\"gini\", min_samples_leaf=3, max_depth=12)\n",
    "scores_metoda1 = cross_val_score(model_i, X_train, y_train, cv=6)\n",
    "print(\"Średnia wyznaczona za pomocą metody 1: %f\\nOdchylenie standardowe: %f\" % (scores_metoda1.mean(),scores_metoda1.std()))"
   ]
  },
  {
   "cell_type": "markdown",
   "metadata": {},
   "source": [
    "2.1 Wyznaczanie max_depth i min_samples_leaf za pomocą kroswalidacji dla entropy"
   ]
  },
  {
   "cell_type": "code",
   "execution_count": 17,
   "metadata": {},
   "outputs": [
    {
     "name": "stdout",
     "output_type": "stream",
     "text": [
      "Najlepsza wartość max_depth = 11\n"
     ]
    }
   ],
   "source": [
    "# Wyznaczanie parametru max_depth\n",
    "mean_scores = []\n",
    "max_depth_values = range(1,15)\n",
    "\n",
    "for max_depth in range(1,15):\n",
    "    model_i = tree.DecisionTreeClassifier(random_state=320575,criterion=\"entropy\",max_depth=max_depth)\n",
    "    scores = cross_val_score(model_i, X_train, y_train, cv=6)  \n",
    "    mean_score = scores.mean()\n",
    "    mean_scores.append(mean_score)\n",
    "\n",
    "best_max_depth = max_depth_values[mean_scores.index(max(mean_scores))]\n",
    "print(\"Najlepsza wartość max_depth = %i\" % best_max_depth)"
   ]
  },
  {
   "cell_type": "code",
   "execution_count": 20,
   "metadata": {},
   "outputs": [
    {
     "name": "stdout",
     "output_type": "stream",
     "text": [
      "Najlepsza wartość min_samples_leaf = 8\n"
     ]
    }
   ],
   "source": [
    "# Wyznaczanie parametru min_leaf_depth\n",
    "mean_scores = []\n",
    "min_samples_values = range(2,15)\n",
    "\n",
    "for min_samples in range(2,15):\n",
    "    model_i = tree.DecisionTreeClassifier(random_state=320575,criterion=\"entropy\",min_samples_leaf=min_samples)\n",
    "    scores = cross_val_score(model_i, X_train, y_train, cv=6)  \n",
    "    mean_score = scores.mean()\n",
    "    mean_scores.append(mean_score)\n",
    "\n",
    "min_samples = min_samples_values[mean_scores.index(max(mean_scores))]\n",
    "print(\"Najlepsza wartość min_samples_leaf = %i\" % min_samples)"
   ]
  },
  {
   "cell_type": "markdown",
   "metadata": {},
   "source": [
    "2.2 Ocena modelu dla max_depth = 11, min_samples_leaf=8"
   ]
  },
  {
   "cell_type": "code",
   "execution_count": 23,
   "metadata": {},
   "outputs": [
    {
     "name": "stdout",
     "output_type": "stream",
     "text": [
      "Średnia wyznaczona za pomocą kroswalidacji: 0.819356, odchylenie standardowe: 0.005367\n"
     ]
    }
   ],
   "source": [
    "model3 = tree.DecisionTreeClassifier(random_state=320575,criterion=\"entropy\",max_depth=11, min_samples_leaf=8)\n",
    "scores_depth11 = cross_val_score(model_i, X_train, y_train, cv=6)  \n",
    "print(\"Średnia wyznaczona za pomocą kroswalidacji: %f, odchylenie standardowe: %f\" % (scores_depth11.mean(),scores_depth11.std()))"
   ]
  },
  {
   "cell_type": "markdown",
   "metadata": {},
   "source": [
    "3.1 Dodatkowe parametry - min_samples_split, max_features\n",
    "Na najlepszym modelu spróbujemy dodać nowe parametry aby wzmocnic jego skutecznosc"
   ]
  },
  {
   "cell_type": "code",
   "execution_count": 363,
   "metadata": {},
   "outputs": [
    {
     "name": "stdout",
     "output_type": "stream",
     "text": [
      "Najlepsza wartość min_samples_leaf = 11\n"
     ]
    }
   ],
   "source": [
    "# Wyznaczanie parametru min_samples_split\n",
    "mean_scores = []\n",
    "min_samples_split_values = range(2,15)\n",
    "\n",
    "for i in range(2,15):\n",
    "    model_i = tree.DecisionTreeClassifier(random_state=320575,criterion=\"gini\",min_samples_leaf=3, max_depth=12, min_samples_split=i)\n",
    "    scores = cross_val_score(model_i, X_train, y_train, cv=6)  \n",
    "    mean_score = scores.mean()\n",
    "    mean_scores.append(mean_score)\n",
    "\n",
    "min_split = min_samples_split_values[mean_scores.index(max(mean_scores))]\n",
    "print(\"Najlepsza wartość min_samples_split = %i\" % min_split)"
   ]
  },
  {
   "cell_type": "code",
   "execution_count": 25,
   "metadata": {},
   "outputs": [
    {
     "name": "stdout",
     "output_type": "stream",
     "text": [
      "Najlepsza wartość max_features = 11\n"
     ]
    }
   ],
   "source": [
    "# Wyznaczanie parametru max_features\n",
    "mean_scores = []\n",
    "max_features_values = range(2,15)\n",
    "\n",
    "for i in range(2,15):\n",
    "    model_i = tree.DecisionTreeClassifier(random_state=320575,criterion=\"gini\",min_samples_leaf=3, max_depth=12, min_samples_split=11, max_features=i)\n",
    "    scores = cross_val_score(model_i, X_train, y_train, cv=6)  \n",
    "    mean_score = scores.mean()\n",
    "    mean_scores.append(mean_score)\n",
    "\n",
    "max_feature = max_features_values[mean_scores.index(max(mean_scores))]\n",
    "print(\"Najlepsza wartość max_features = %i\" % max_feature)"
   ]
  },
  {
   "cell_type": "markdown",
   "metadata": {},
   "source": []
  },
  {
   "cell_type": "markdown",
   "metadata": {},
   "source": [
    "4.1 Za pomocą powyzszych metod otrzymaliśmy najlepsze drzewo dla max_depth = 12, min_samples_leaf = 3 przy criterion=\"gini\"\n",
    "Dalsze wyniki przeprowadzamy na takim drzewie"
   ]
  },
  {
   "cell_type": "code",
   "execution_count": 26,
   "metadata": {},
   "outputs": [],
   "source": [
    "Model = tree.DecisionTreeClassifier(random_state=320575, max_depth = 12, min_samples_leaf=3, criterion = \"gini\")\n",
    "Model2 = tree.DecisionTreeClassifier(random_state=320575, max_depth = 11, min_samples_leaf=8, criterion = \"entropy\")\n",
    "Model3 =tree.DecisionTreeClassifier(random_state=320575,criterion=\"gini\",min_samples_leaf=3, max_depth=12, min_samples_split=11, max_features=11) "
   ]
  },
  {
   "cell_type": "code",
   "execution_count": 27,
   "metadata": {},
   "outputs": [
    {
     "name": "stdout",
     "output_type": "stream",
     "text": [
      "Wynik modelu 1: 0.8367\n",
      "Wynik modelu 2: 0.8170\n",
      "Wynik modelu 3: 0.8213\n"
     ]
    }
   ],
   "source": [
    "Model.fit(X_train, y_train)\n",
    "print(\"Wynik modelu 1: %0.04f\" % Model.score(X_test,y_test))\n",
    "Model2.fit(X_train, y_train)\n",
    "print(\"Wynik modelu 2: %0.04f\" % Model2.score(X_test,y_test))\n",
    "Model3.fit(X_train, y_train)\n",
    "print(\"Wynik modelu 3: %0.04f\" % Model3.score(X_test,y_test))"
   ]
  },
  {
   "cell_type": "code",
   "execution_count": 375,
   "metadata": {},
   "outputs": [
    {
     "name": "stdout",
     "output_type": "stream",
     "text": [
      "Model 1:\n",
      "MSE=0.1633,\n",
      "Accuracy=0.8367,\n",
      "Recall=0.8420,\n",
      "Precision=0.8342\n",
      "\n",
      "Model 2:\n",
      "MSE=0.1847,\n",
      "Accuracy=0.8153,\n",
      "Recall=0.8161,\n",
      "Precision=0.8161\n",
      "\n",
      "Model 3:\n",
      "MSE=0.1787,\n",
      "Accuracy=0.8213,\n",
      "Recall=0.8244,\n",
      "Precision=0.8206\n"
     ]
    }
   ],
   "source": [
    "y_pred = Model.predict(X_test)\n",
    "print(\"Model 1:\")\n",
    "print(\"MSE=%0.4f,\\nAccuracy=%0.4f,\\nRecall=%0.4f,\\nPrecision=%0.4f\" % (mean_squared_error(y_test, y_pred),accuracy_score(y_test,y_pred),recall_score(y_test,y_pred),precision_score(y_test,y_pred)))\n",
    "y_pred2 = Model2.predict(X_test)\n",
    "print(\"\\nModel 2:\")\n",
    "print(\"MSE=%0.4f,\\nAccuracy=%0.4f,\\nRecall=%0.4f,\\nPrecision=%0.4f\" % (mean_squared_error(y_test, y_pred2),accuracy_score(y_test,y_pred2),recall_score(y_test,y_pred2),precision_score(y_test,y_pred2)))\n",
    "y_pred3 = Model3.predict(X_test)\n",
    "print(\"\\nModel 3:\")\n",
    "print(\"MSE=%0.4f,\\nAccuracy=%0.4f,\\nRecall=%0.4f,\\nPrecision=%0.4f\" % (mean_squared_error(y_test, y_pred3),accuracy_score(y_test,y_pred3),recall_score(y_test,y_pred3),precision_score(y_test,y_pred3)))"
   ]
  },
  {
   "cell_type": "code",
   "execution_count": 28,
   "metadata": {},
   "outputs": [
    {
     "data": {
      "text/plain": [
       "<matplotlib.legend.Legend at 0x7fb99021f7f0>"
      ]
     },
     "execution_count": 28,
     "metadata": {},
     "output_type": "execute_result"
    },
    {
     "data": {
      "image/png": "[encoded data removed]",
      "text/plain": [
       "<Figure size 432x288 with 1 Axes>"
      ]
     },
     "metadata": {
      "needs_background": "light"
     },
     "output_type": "display_data"
    }
   ],
   "source": [
    "from sklearn.metrics import roc_curve, roc_auc_score\n",
    "y_pred = Model.predict_proba(X_test)\n",
    "y_pred2 = Model2.predict_proba(X_test)\n",
    "y_pred3 = Model3.predict_proba(X_test)\n",
    "fpr, tpr, tresholds = roc_curve(y_test, y_pred[:,1])\n",
    "plt.plot(fpr, tpr, label=\"Model1, AUC=%0.4f\" % roc_auc_score(y_test,y_pred[:,1]))\n",
    "fpr, tpr, tresholds = roc_curve(y_test, y_pred2[:,1])\n",
    "plt.plot(fpr,tpr,label = \"Model2, AUC=%0.4f\" % roc_auc_score(y_test,y_pred2[:,1]))\n",
    "fpr, tpr, tresholds = roc_curve(y_test, y_pred3[:,1])\n",
    "plt.plot(fpr,tpr,label = \"Model3, AUC=%0.4f\" % roc_auc_score(y_test,y_pred3[:,1]))\n",
    "plt.legend()\n"
   ]
  },
  {
   "cell_type": "code",
   "execution_count": 29,
   "metadata": {},
   "outputs": [
    {
     "name": "stdout",
     "output_type": "stream",
     "text": [
      "Macierz pomyłek modelu 1: [[2484  504]\n",
      " [ 476 2536]]\n",
      "Macierz pomyłek modelu 2: [[2424  564]\n",
      " [ 534 2478]]\n",
      "Macierz pomyłek modelu 3: [[2445  543]\n",
      " [ 529 2483]]\n"
     ]
    }
   ],
   "source": [
    "from sklearn.metrics import confusion_matrix\n",
    "y_pred = Model.predict(X_test)\n",
    "y_pred2 = Model2.predict(X_test)\n",
    "y_pred3 = Model3.predict(X_test)\n",
    "print(\"Macierz pomyłek modelu 1: \" + str(confusion_matrix(y_test, y_pred)))\n",
    "print(\"Macierz pomyłek modelu 2: \" + str(confusion_matrix(y_test, y_pred2)))\n",
    "print(\"Macierz pomyłek modelu 3: \" + str(confusion_matrix(y_test, y_pred3)))\n"
   ]
  },
  {
   "cell_type": "markdown",
   "metadata": {},
   "source": [
    "5.1 Inne parametry - cppalha"
   ]
  },
  {
   "cell_type": "markdown",
   "metadata": {},
   "source": [
    "5.2 w tym celu najpierw podzielimy zbiory na walidacyjny, testowy, treningowy"
   ]
  },
  {
   "cell_type": "code",
   "execution_count": 30,
   "metadata": {},
   "outputs": [],
   "source": [
    "X_train, X_test, y_train, y_test = train_test_split(X, y, test_size=0.3, random_state=11)\n",
    "X_train, X_valid, y_train, y_valid = train_test_split(X_train, y_train, test_size=0.2)\n",
    "Tree = tree.DecisionTreeClassifier(random_state=320575)\n",
    "path = Tree.cost_complexity_pruning_path(X_train, y_train)\n",
    "ccp_alphas = path.ccp_alphas\n",
    "clfs = []\n",
    "for ccp_alpha in ccp_alphas:\n",
    "    Tree = tree.DecisionTreeClassifier(random_state=320575, ccp_alpha=ccp_alpha)\n",
    "    Tree.fit(X_train, y_train)\n",
    "    clfs.append(Tree)"
   ]
  },
  {
   "cell_type": "markdown",
   "metadata": {},
   "source": [
    "5.3 Wyznaczenie najlepszego parametru ccpalpha:"
   ]
  },
  {
   "cell_type": "code",
   "execution_count": 31,
   "metadata": {},
   "outputs": [
    {
     "data": {
      "image/png": "[encoded data removed]",
      "text/plain": [
       "<Figure size 432x288 with 1 Axes>"
      ]
     },
     "metadata": {
      "needs_background": "light"
     },
     "output_type": "display_data"
    }
   ],
   "source": [
    "train_scores = [clf.score(X_train, y_train) for clf in clfs]\n",
    "valid_scores = [clf.score(X_valid, y_valid) for clf in clfs]\n",
    "test_scores = [clf.score(X_test, y_test) for clf in clfs]\n",
    "\n",
    "fig, ax = plt.subplots()\n",
    "ax.set_xlabel(\"alpha\")\n",
    "ax.set_ylabel(\"accuracy\")\n",
    "ax.set_title(\"Accuracy vs alpha for training and testing sets\")\n",
    "ax.plot(ccp_alphas, train_scores, marker=\"o\", label=\"train\", drawstyle=\"steps-post\")\n",
    "ax.plot(ccp_alphas, valid_scores, marker=\"o\", label=\"valid\", drawstyle=\"steps-post\")\n",
    "ax.plot(ccp_alphas, test_scores, marker=\"o\", label=\"test\", drawstyle=\"steps-post\")\n",
    "ax.legend()\n",
    "plt.show()\n",
    "alpha_opt = max(ccp_alphas[valid_scores==np.max(valid_scores)])"
   ]
  },
  {
   "cell_type": "code",
   "execution_count": 35,
   "metadata": {},
   "outputs": [
    {
     "name": "stdout",
     "output_type": "stream",
     "text": [
      "Best alpha=0.00029221\n"
     ]
    }
   ],
   "source": [
    "alpha_opt = max(ccp_alphas[valid_scores==np.max(valid_scores)])\n",
    "print(\"Best alpha=%0.8f\" % alpha_opt)"
   ]
  },
  {
   "cell_type": "code",
   "execution_count": 44,
   "metadata": {},
   "outputs": [
    {
     "data": {
      "text/plain": [
       "0.842"
      ]
     },
     "execution_count": 44,
     "metadata": {},
     "output_type": "execute_result"
    }
   ],
   "source": [
    "X2 = np.concatenate((X_train, X_valid), axis=0)\n",
    "y2 = np.concatenate((y_train, y_valid), axis=0) \n",
    "model4 = tree.DecisionTreeClassifier(random_state=320575, ccp_alpha=alpha_opt) \n",
    "model4 = model4.fit(X2, y2) \n",
    "model4.score(X_test, y_test) # zbiory z podziału 7:3 z początku kodu"
   ]
  },
  {
   "cell_type": "code",
   "execution_count": 57,
   "metadata": {},
   "outputs": [
    {
     "name": "stdout",
     "output_type": "stream",
     "text": [
      "[[0.6778 0.6778 0.6778 0.6778 0.6778 0.6778 0.6778 0.6778]\n",
      " [0.6901 0.6901 0.6901 0.6901 0.6901 0.6901 0.6901 0.6901]\n",
      " [0.7275 0.7275 0.7276 0.7276 0.7276 0.7276 0.7277 0.7276]\n",
      " [0.7518 0.7518 0.7516 0.7517 0.7518 0.752  0.7521 0.7521]\n",
      " [0.7783 0.7784 0.7783 0.7781 0.7781 0.7782 0.7785 0.7778]\n",
      " [0.8023 0.8023 0.8024 0.8023 0.8024 0.8025 0.8028 0.8024]\n",
      " [0.8141 0.8132 0.8136 0.8129 0.8131 0.8129 0.8132 0.8127]\n",
      " [0.8211 0.8216 0.8203 0.8205 0.8206 0.8208 0.8206 0.82  ]\n",
      " [0.8286 0.8268 0.8259 0.8262 0.8258 0.8257 0.8263 0.8234]\n",
      " [0.8289 0.8299 0.8289 0.8276 0.8276 0.8285 0.8281 0.8268]\n",
      " [0.8316 0.8317 0.8295 0.8292 0.8297 0.8309 0.8301 0.8273]\n",
      " [0.8335 0.8321 0.8308 0.8304 0.8304 0.8316 0.8303 0.8288]\n",
      " [0.8326 0.8327 0.8309 0.8309 0.8309 0.8319 0.8308 0.8276]\n",
      " [0.8334 0.8324 0.8316 0.8314 0.8319 0.8324 0.8304 0.8291]\n",
      " [0.8325 0.8329 0.8323 0.8304 0.8314 0.8324 0.8301 0.8289]]\n",
      "11 0\n",
      "0.8335006359703976\n"
     ]
    }
   ],
   "source": [
    "# Wyznaczanie parametru max_depth i min_samples_leaf w jednej podwójnej pętli do dobranego ccp_alpha\n",
    "mean_scores = np.empty((15, 8))\n",
    "df = pd.DataFrame(mean_scores)\n",
    "max_features_values = range(2,10)\n",
    "\n",
    "np.set_printoptions(precision=4, suppress=True)\n",
    "for depth in range(2,17):\n",
    "    for split in range(2,10):\n",
    "        model_i = tree.DecisionTreeClassifier(random_state=320575,criterion=\"gini\", max_depth=depth, min_samples_leaf=split, ccp_alpha=alpha_opt)\n",
    "        scores = cross_val_score(model_i, X_train, y_train, cv=6)  \n",
    "        mean_score = scores.mean()\n",
    "        mean_scores[depth-2, split-2] = mean_score\n",
    "\n",
    "print(mean_scores)\n",
    "i, j = np.unravel_index(np.argmax(mean_scores), mean_scores.shape)\n",
    "print(str(i) + \" \" + str(j))\n",
    "print(mean_scores[i,j])"
   ]
  },
  {
   "cell_type": "markdown",
   "metadata": {},
   "source": [
    "5.4 model4 - podsumowanie wyników"
   ]
  },
  {
   "cell_type": "code",
   "execution_count": 62,
   "metadata": {},
   "outputs": [
    {
     "name": "stdout",
     "output_type": "stream",
     "text": [
      "Model 4:\n",
      "Wynik modelu 4: 0.8323\n",
      "Wynik pola pod wykresem roc: 0.8789898416152436\n",
      "MSE=0.1677,\n",
      "Accuracy=0.8323,\n",
      "Recall=0.8403,\n",
      "Precision=0.8282\n",
      "Macierz pomyłek modelu 5: [[2463  525]\n",
      " [ 481 2531]]\n"
     ]
    }
   ],
   "source": [
    "model4 = tree.DecisionTreeClassifier(random_state=320575, ccp_alpha=alpha_opt, max_depth = 13, min_samples_leaf=2, criterion = \"gini\")\n",
    "model4.fit(X_train, y_train)\n",
    "print(\"Model 4:\")\n",
    "print(\"Wynik modelu 4: %0.04f\" % model4.score(X_test,y_test))\n",
    "y_pred5 = model4.predict_proba(X_test)\n",
    "print(\"Wynik pola pod wykresem roc: \" + str(roc_auc_score(y_test,y_pred5[:,1])))\n",
    "y_pred5 = model4.predict(X_test)\n",
    "print(\"MSE=%0.4f,\\nAccuracy=%0.4f,\\nRecall=%0.4f,\\nPrecision=%0.4f\" % (mean_squared_error(y_test, y_pred5),accuracy_score(y_test,y_pred5),recall_score(y_test,y_pred5),precision_score(y_test,y_pred5)))\n",
    "print(\"Macierz pomyłek modelu 5: \" + str(confusion_matrix(y_test, y_pred5)))"
   ]
  },
  {
   "cell_type": "code",
   "execution_count": 63,
   "metadata": {},
   "outputs": [
    {
     "data": {
      "text/plain": [
       "<matplotlib.legend.Legend at 0x7fb9a23750d0>"
      ]
     },
     "execution_count": 63,
     "metadata": {},
     "output_type": "execute_result"
    },
    {
     "data": {
      "image/png": "[encoded data removed]",
      "text/plain": [
       "<Figure size 432x288 with 1 Axes>"
      ]
     },
     "metadata": {
      "needs_background": "light"
     },
     "output_type": "display_data"
    }
   ],
   "source": [
    "from sklearn.metrics import roc_curve, roc_auc_score\n",
    "y_pred = Model.predict_proba(X_test)\n",
    "y_pred2 = Model2.predict_proba(X_test)\n",
    "y_pred3 = Model3.predict_proba(X_test)\n",
    "y_pred4 = model4.predict_proba(X_test)\n",
    "fpr, tpr, tresholds = roc_curve(y_test, y_pred[:,1])\n",
    "plt.plot(fpr, tpr, label=\"Model1, AUC=%0.4f\" % roc_auc_score(y_test,y_pred[:,1]))\n",
    "fpr, tpr, tresholds = roc_curve(y_test, y_pred2[:,1])\n",
    "plt.plot(fpr,tpr,label = \"Model2, AUC=%0.4f\" % roc_auc_score(y_test,y_pred2[:,1]))\n",
    "fpr, tpr, tresholds = roc_curve(y_test, y_pred3[:,1])\n",
    "plt.plot(fpr,tpr,label = \"Model3, AUC=%0.4f\" % roc_auc_score(y_test,y_pred3[:,1]))\n",
    "fpr, tpr, tresholds = roc_curve(y_test, y_pred4[:,1])\n",
    "plt.plot(fpr,tpr,label = \"Model4, AUC=%0.4f\" % roc_auc_score(y_test,y_pred4[:,1]))\n",
    "plt.legend()\n"
   ]
  },
  {
   "cell_type": "code",
   "execution_count": 64,
   "metadata": {},
   "outputs": [
    {
     "data": {
      "text/plain": [
       "<matplotlib.legend.Legend at 0x7fb9611e75e0>"
      ]
     },
     "execution_count": 64,
     "metadata": {},
     "output_type": "execute_result"
    },
    {
     "data": {
      "image/png": "[encoded data removed]",
      "text/plain": [
       "<Figure size 432x288 with 1 Axes>"
      ]
     },
     "metadata": {
      "needs_background": "light"
     },
     "output_type": "display_data"
    }
   ],
   "source": [
    "from sklearn.metrics import roc_curve, roc_auc_score\n",
    "y_pred = Model.predict_proba(X_test)\n",
    "y_pred2 = Model2.predict_proba(X_test)\n",
    "fpr, tpr, tresholds = roc_curve(y_test, y_pred[:,1])\n",
    "plt.plot(fpr, tpr, label=\"Model1, AUC=%0.4f\" % roc_auc_score(y_test,y_pred[:,1]))\n",
    "fpr, tpr, tresholds = roc_curve(y_test, y_pred2[:,1])\n",
    "plt.plot(fpr,tpr,label = \"Model2, AUC=%0.4f\" % roc_auc_score(y_test,y_pred2[:,1]))\n",
    "plt.legend()"
   ]
  },
  {
   "cell_type": "code",
   "execution_count": null,
   "metadata": {},
   "outputs": [],
   "source": []
  }
 ],
 "metadata": {
  "kernelspec": {
   "display_name": "base",
   "language": "python",
   "name": "python3"
  },
  "language_info": {
   "codemirror_mode": {
    "name": "ipython",
    "version": 3
   },
   "file_extension": ".py",
   "mimetype": "text/x-python",
   "name": "python",
   "nbconvert_exporter": "python",
   "pygments_lexer": "ipython3",
   "version": "3.9.7"
  },
  "orig_nbformat": 4
 },
 "nbformat": 4,
 "nbformat_minor": 2
}
