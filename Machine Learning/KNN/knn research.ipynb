{
 "cells": [
  {
   "cell_type": "code",
   "execution_count": 500,
   "metadata": {},
   "outputs": [],
   "source": [
    "import numpy as np\n",
    "from sklearn.model_selection import train_test_split\n",
    "from sklearn.metrics import accuracy_score, precision_score, recall_score\n",
    "import matplotlib.pyplot as plt"
   ]
  },
  {
   "cell_type": "markdown",
   "metadata": {},
   "source": [
    "## 1. Implementacja funckji knn()"
   ]
  },
  {
   "cell_type": "markdown",
   "metadata": {},
   "source": [
    "Funkcja knn"
   ]
  },
  {
   "cell_type": "code",
   "execution_count": 419,
   "metadata": {},
   "outputs": [],
   "source": [
    "def knn(X_train, y, X_test, k, p=2):\n",
    "    w = []\n",
    "    for i in range(X_test.shape[0]):\n",
    "        distances = []\n",
    "        for j in range(len(y)):\n",
    "            dj = np.linalg.norm(X_test[i,] - X_train[j,], ord=p)\n",
    "            distances.append([dj,j])\n",
    "\n",
    "        distances.sort(key=lambda x: x[0])\n",
    "        indices = [x[1] for x in distances][:k]\n",
    "        y = np.array(y)\n",
    "        labels = list(y[indices])\n",
    "        # wybieranie elementu mody\n",
    "        checking = [0] * (X_test.shape[1] + 1)\n",
    "        for el in labels:\n",
    "            checking[el]+=1\n",
    "        checking = sorted(checking, reverse=True)\n",
    "\n",
    "        # jeśli pojawienie najczęstszego indeksu było większe od pozostałych to bierzemy największy indeks\n",
    "        mode_results = []\n",
    "        if checking[0] > checking[1]: mode_result = max(set(labels), key=labels.count)\n",
    "        else: \n",
    "            for el in set(labels):\n",
    "                if labels.count(el) == checking[0]:\n",
    "                    mode_results.append(el)\n",
    "            mode_result = np.random.choice(mode_results)\n",
    "\n",
    "        w.append(mode_result)\n",
    "\n",
    "    return w"
   ]
  },
  {
   "cell_type": "markdown",
   "metadata": {},
   "source": [
    "Dane:"
   ]
  },
  {
   "cell_type": "markdown",
   "metadata": {},
   "source": [
    "## Test 0"
   ]
  },
  {
   "cell_type": "code",
   "execution_count": 658,
   "metadata": {},
   "outputs": [],
   "source": [
    "# macierz X wymiaru n x p - zbiór treningowy\n",
    "n = 40\n",
    "p = 6\n",
    "X = np.array([[np.random.rand() for _ in range(p)] for _ in range(n)])\n",
    "\n",
    "# etykieta y \n",
    "y = np.random.randint(0,2,n)\n",
    "\n",
    "# Z - macierz m x p - zbiór testowy\n",
    "m = 10\n",
    "Z = np.array([[np.random.rand() for _ in range(p)] for _ in range(m)])\n",
    "\n",
    "# k - liczba sąsiadów\n",
    "k = np.random.randint(1,n)\n",
    "\n",
    "# p - metryka\n",
    "inf = np.inf\n",
    "p = 1 # 1,2,inf\n",
    "X_train, X_test, y_train, y_test = train_test_split(X,y,test_size=0.3,random_state=320575)"
   ]
  },
  {
   "cell_type": "code",
   "execution_count": 655,
   "metadata": {},
   "outputs": [
    {
     "data": {
      "text/plain": [
       "[1, 1, 0, 0, 0, 1, 1, 0, 0, 0]"
      ]
     },
     "execution_count": 655,
     "metadata": {},
     "output_type": "execute_result"
    }
   ],
   "source": [
    "w = knn(X,y,Z,k,p=2)\n",
    "w"
   ]
  },
  {
   "cell_type": "code",
   "execution_count": 498,
   "metadata": {},
   "outputs": [],
   "source": [
    "# Jest Ok działa"
   ]
  },
  {
   "cell_type": "code",
   "execution_count": 659,
   "metadata": {},
   "outputs": [
    {
     "name": "stdout",
     "output_type": "stream",
     "text": [
      "_______ Metryka 1 _______\n",
      "\n",
      "Dla parametru k = 5, otrzymaliśmy następujące wyniki:\n",
      "\n",
      "- Dokładność: 0.7500\n",
      "\n",
      "- Precyzja: 1.0000\n",
      "\n",
      "- Czułość: 0.5000\n",
      "\n",
      "Dla parametru k = 15, otrzymaliśmy następujące wyniki:\n",
      "\n",
      "- Dokładność: 0.5833\n",
      "\n",
      "- Precyzja: 1.0000\n",
      "\n",
      "- Czułość: 0.1667\n",
      "\n",
      "Dla parametru k = 25, otrzymaliśmy następujące wyniki:\n",
      "\n",
      "- Dokładność: 0.5000\n",
      "\n",
      "- Precyzja: 0.0000\n",
      "\n",
      "- Czułość: 0.0000\n",
      "\n",
      "Dla parametru k = 35, otrzymaliśmy następujące wyniki:\n",
      "\n",
      "- Dokładność: 0.5000\n",
      "\n",
      "- Precyzja: 0.0000\n",
      "\n",
      "- Czułość: 0.0000\n",
      "\n",
      "_______ Metryka 2 _______\n",
      "\n",
      "Dla parametru k = 5, otrzymaliśmy następujące wyniki:\n",
      "\n",
      "- Dokładność: 0.8333\n",
      "\n",
      "- Precyzja: 1.0000\n",
      "\n",
      "- Czułość: 0.6667\n",
      "\n",
      "Dla parametru k = 15, otrzymaliśmy następujące wyniki:\n",
      "\n",
      "- Dokładność: 0.5000\n",
      "\n",
      "- Precyzja: 0.0000\n",
      "\n",
      "- Czułość: 0.0000\n",
      "\n",
      "Dla parametru k = 25, otrzymaliśmy następujące wyniki:\n",
      "\n",
      "- Dokładność: 0.5000\n",
      "\n",
      "- Precyzja: 0.0000\n",
      "\n",
      "- Czułość: 0.0000\n",
      "\n",
      "Dla parametru k = 35, otrzymaliśmy następujące wyniki:\n",
      "\n",
      "- Dokładność: 0.5000\n",
      "\n",
      "- Precyzja: 0.0000\n",
      "\n",
      "- Czułość: 0.0000\n",
      "\n",
      "_______ Metryka inf _______\n",
      "\n",
      "Dla parametru k = 5, otrzymaliśmy następujące wyniki:\n",
      "\n",
      "- Dokładność: 0.6667\n",
      "\n",
      "- Precyzja: 0.7500\n",
      "\n",
      "- Czułość: 0.5000\n",
      "\n",
      "Dla parametru k = 15, otrzymaliśmy następujące wyniki:\n",
      "\n",
      "- Dokładność: 0.5000\n",
      "\n",
      "- Precyzja: 0.0000\n",
      "\n",
      "- Czułość: 0.0000\n",
      "\n",
      "Dla parametru k = 25, otrzymaliśmy następujące wyniki:\n",
      "\n",
      "- Dokładność: 0.5000\n",
      "\n",
      "- Precyzja: 0.0000\n",
      "\n",
      "- Czułość: 0.0000\n",
      "\n",
      "Dla parametru k = 35, otrzymaliśmy następujące wyniki:\n",
      "\n",
      "- Dokładność: 0.5000\n",
      "\n",
      "- Precyzja: 0.0000\n",
      "\n",
      "- Czułość: 0.0000\n",
      "\n"
     ]
    },
    {
     "name": "stderr",
     "output_type": "stream",
     "text": [
      "/Users/janpoglod/opt/anaconda3/lib/python3.9/site-packages/sklearn/metrics/_classification.py:1471: UndefinedMetricWarning: Precision is ill-defined and being set to 0.0 due to no predicted samples. Use `zero_division` parameter to control this behavior.\n",
      "  _warn_prf(average, modifier, msg_start, len(result))\n",
      "/Users/janpoglod/opt/anaconda3/lib/python3.9/site-packages/sklearn/metrics/_classification.py:1471: UndefinedMetricWarning: Precision is ill-defined and being set to 0.0 due to no predicted samples. Use `zero_division` parameter to control this behavior.\n",
      "  _warn_prf(average, modifier, msg_start, len(result))\n",
      "/Users/janpoglod/opt/anaconda3/lib/python3.9/site-packages/sklearn/metrics/_classification.py:1471: UndefinedMetricWarning: Precision is ill-defined and being set to 0.0 due to no predicted samples. Use `zero_division` parameter to control this behavior.\n",
      "  _warn_prf(average, modifier, msg_start, len(result))\n",
      "/Users/janpoglod/opt/anaconda3/lib/python3.9/site-packages/sklearn/metrics/_classification.py:1471: UndefinedMetricWarning: Precision is ill-defined and being set to 0.0 due to no predicted samples. Use `zero_division` parameter to control this behavior.\n",
      "  _warn_prf(average, modifier, msg_start, len(result))\n",
      "/Users/janpoglod/opt/anaconda3/lib/python3.9/site-packages/sklearn/metrics/_classification.py:1471: UndefinedMetricWarning: Precision is ill-defined and being set to 0.0 due to no predicted samples. Use `zero_division` parameter to control this behavior.\n",
      "  _warn_prf(average, modifier, msg_start, len(result))\n",
      "/Users/janpoglod/opt/anaconda3/lib/python3.9/site-packages/sklearn/metrics/_classification.py:1471: UndefinedMetricWarning: Precision is ill-defined and being set to 0.0 due to no predicted samples. Use `zero_division` parameter to control this behavior.\n",
      "  _warn_prf(average, modifier, msg_start, len(result))\n",
      "/Users/janpoglod/opt/anaconda3/lib/python3.9/site-packages/sklearn/metrics/_classification.py:1471: UndefinedMetricWarning: Precision is ill-defined and being set to 0.0 due to no predicted samples. Use `zero_division` parameter to control this behavior.\n",
      "  _warn_prf(average, modifier, msg_start, len(result))\n",
      "/Users/janpoglod/opt/anaconda3/lib/python3.9/site-packages/sklearn/metrics/_classification.py:1471: UndefinedMetricWarning: Precision is ill-defined and being set to 0.0 due to no predicted samples. Use `zero_division` parameter to control this behavior.\n",
      "  _warn_prf(average, modifier, msg_start, len(result))\n"
     ]
    }
   ],
   "source": [
    "inf = np.inf\n",
    "\n",
    "for par in (1,2,inf):\n",
    "    print(f\"_______ Metryka {str(par)} _______\\n\")\n",
    "    for i in range(5, 40, 10):\n",
    "        w = knn(X_train,y_train,X_test,i,par)\n",
    "        print(f\"Dla parametru k = {i}, otrzymaliśmy następujące wyniki:\\n\")\n",
    "        print(f\"- Dokładność: {accuracy_score(y_test,w):0.4f}\\n\")\n",
    "        print(f\"- Precyzja: {precision_score(y_test,w):0.4f}\\n\")\n",
    "        print(f\"- Czułość: {recall_score(y_test,w):0.4f}\\n\")"
   ]
  },
  {
   "cell_type": "markdown",
   "metadata": {},
   "source": [
    "## 1-NN dla danych X_test i X_train tozszamych"
   ]
  },
  {
   "cell_type": "code",
   "execution_count": 499,
   "metadata": {},
   "outputs": [
    {
     "data": {
      "text/plain": [
       "1.0"
      ]
     },
     "execution_count": 499,
     "metadata": {},
     "output_type": "execute_result"
    }
   ],
   "source": [
    "n = 30 \n",
    "p = 2\n",
    "X = np.array([[np.random.rand() for _ in range(p)] for _ in range(n)])\n",
    "\n",
    "# etykieta y \n",
    "y = np.random.randint(0,p,n)\n",
    "w = knn(X, y, X, k=1, p=2)\n",
    "\n",
    "accuracy_score(w,y)"
   ]
  },
  {
   "cell_type": "code",
   "execution_count": 501,
   "metadata": {},
   "outputs": [],
   "source": [
    "# Jest Ok"
   ]
  },
  {
   "cell_type": "markdown",
   "metadata": {},
   "source": [
    "## Test 1, Dane losowe w R^2"
   ]
  },
  {
   "cell_type": "code",
   "execution_count": 607,
   "metadata": {},
   "outputs": [
    {
     "data": {
      "text/plain": [
       "Text(0, 0.5, 'Wymiar 2')"
      ]
     },
     "execution_count": 607,
     "metadata": {},
     "output_type": "execute_result"
    },
    {
     "data": {
      "image/png": "[encoded data removed]",
      "text/plain": [
       "<Figure size 432x288 with 1 Axes>"
      ]
     },
     "metadata": {
      "needs_background": "light"
     },
     "output_type": "display_data"
    }
   ],
   "source": [
    "# macierz X wymiaru n x p - zbiór treningowy\n",
    "n = 30 \n",
    "p = 2\n",
    "X = np.array([[np.random.rand() for _ in range(p)] for _ in range(n)])\n",
    "\n",
    "# etykieta y \n",
    "y = np.random.randint(0,p,n)\n",
    "\n",
    "X_train, X_test, y_train, y_test = train_test_split(X, y, test_size=0.3)\n",
    "# k - liczba sąsiadów\n",
    "\n",
    "colors = ['red' if label == 0 else 'blue' for label in y]\n",
    "plt.scatter(X[:, 0], X[:, 1], color = colors, marker='o', label='Zbiór X', cmap='viridis')\n",
    "\n",
    "plt.title('Zbiór X na płaszczyźnie')\n",
    "plt.xlabel('Wymiar 1')\n",
    "plt.ylabel('Wymiar 2')\n"
   ]
  },
  {
   "cell_type": "markdown",
   "metadata": {},
   "source": [
    "Sprawdzmy jak zklasyfikowany zostanie punkt [0, 0.8]"
   ]
  },
  {
   "cell_type": "code",
   "execution_count": 608,
   "metadata": {},
   "outputs": [
    {
     "data": {
      "text/plain": [
       "[0]"
      ]
     },
     "execution_count": 608,
     "metadata": {},
     "output_type": "execute_result"
    }
   ],
   "source": [
    "check = np.array([[0, 0.8]])\n",
    "w = knn(X_train, y_train, check, k=5, p=2)\n",
    "w"
   ]
  },
  {
   "cell_type": "code",
   "execution_count": 552,
   "metadata": {},
   "outputs": [],
   "source": [
    "# Jest z klasy 1 a więc niebieskiej"
   ]
  },
  {
   "cell_type": "code",
   "execution_count": 609,
   "metadata": {},
   "outputs": [
    {
     "data": {
      "text/plain": [
       "<function matplotlib.pyplot.show(close=None, block=None)>"
      ]
     },
     "execution_count": 609,
     "metadata": {},
     "output_type": "execute_result"
    },
    {
     "data": {
      "image/png": "[encoded data removed]",
      "text/plain": [
       "<Figure size 432x288 with 1 Axes>"
      ]
     },
     "metadata": {
      "needs_background": "light"
     },
     "output_type": "display_data"
    }
   ],
   "source": [
    "plt.scatter(X[:, 0], X[:, 1], color = colors, marker='o', label='Zbiór X', cmap='viridis')\n",
    "plt.scatter(0, 0.8, color='green', marker='o', label='Nowy punkt [0, 0.8]')\n",
    "plt.scatter(0.5, 0.5, color='green', marker='o', label='Nowy punkt [0.5, 0.5]')\n",
    "plt.title('Zbiór X z przestrzeni R^2')\n",
    "plt.xlabel('Zmienna 1')\n",
    "plt.ylabel('Zmienna 2')\n",
    "plt.show"
   ]
  },
  {
   "cell_type": "code",
   "execution_count": 616,
   "metadata": {},
   "outputs": [
    {
     "data": {
      "text/plain": [
       "[1]"
      ]
     },
     "execution_count": 616,
     "metadata": {},
     "output_type": "execute_result"
    }
   ],
   "source": [
    "check = np.array([[0.5, 0.5]])\n",
    "w = knn(X_train, y_train, check, k=5, p=2)\n",
    "w"
   ]
  },
  {
   "cell_type": "code",
   "execution_count": 615,
   "metadata": {},
   "outputs": [
    {
     "name": "stdout",
     "output_type": "stream",
     "text": [
      "0.6666666666666666\n"
     ]
    }
   ],
   "source": [
    "w = knn(X_train, y_train, X_test, k=5, p=2)\n",
    "print(accuracy_score(w,y_test))"
   ]
  },
  {
   "cell_type": "markdown",
   "metadata": {},
   "source": [
    "## Test 2"
   ]
  },
  {
   "cell_type": "code",
   "execution_count": 591,
   "metadata": {},
   "outputs": [
    {
     "data": {
      "image/png": "[encoded data removed]",
      "text/plain": [
       "<Figure size 432x288 with 1 Axes>"
      ]
     },
     "metadata": {
      "needs_background": "light"
     },
     "output_type": "display_data"
    }
   ],
   "source": [
    "n = 100  \n",
    "p = 2    \n",
    "\n",
    "polowa = n // 2\n",
    "X = np.zeros((n, p))\n",
    "\n",
    "X[:polowa, 0] = np.random.normal(loc=-0.5, scale=0.1, size=polowa)\n",
    "X[:polowa, 1] = np.random.normal(loc=0, scale=0.1, size=polowa)\n",
    "\n",
    "X[polowa:, 0] = np.random.normal(loc=0.5, scale=0.1, size=polowa)\n",
    "X[polowa:, 1] = np.random.normal(loc=0, scale=0.1, size=polowa)\n",
    "\n",
    "y = np.zeros(n)\n",
    "y[:50] = 1\n",
    "colors = ['red' if label == 0 else 'blue' for label in y]\n",
    "plt.scatter(X[:, 0], X[:, 1], color = colors, marker='o', label='Zbiór X', cmap='viridis')\n",
    "\n",
    "plt.scatter(-0.3, 0, color='green', marker='o', label='Nowy punkt [-0.2, 0]')\n",
    "plt.scatter(0, 0, color='green', marker='o', label='Nowy punkt [0, 0]')\n",
    "\n",
    "plt.title('Zbiór X')\n",
    "plt.xlabel('Zmienna 1')\n",
    "plt.ylabel('Zmienna 2')\n",
    "\n",
    "plt.show()"
   ]
  },
  {
   "cell_type": "code",
   "execution_count": 597,
   "metadata": {},
   "outputs": [],
   "source": [
    "y = y.astype(int)\n",
    "X_train, X_test, y_train, y_test = train_test_split(X,y,test_size=0.3,random_state=320575)"
   ]
  },
  {
   "cell_type": "code",
   "execution_count": 600,
   "metadata": {},
   "outputs": [
    {
     "name": "stdout",
     "output_type": "stream",
     "text": [
      "1.0\n",
      "1.0\n",
      "1.0\n"
     ]
    }
   ],
   "source": [
    "w = knn(X_train, y_train, X_test, k=5, p=2)\n",
    "print(accuracy_score(w,y_test))\n",
    "print(precision_score(w,y_test))\n",
    "print(recall_score(w,y_test))"
   ]
  },
  {
   "cell_type": "code",
   "execution_count": 601,
   "metadata": {},
   "outputs": [
    {
     "data": {
      "text/plain": [
       "[1]"
      ]
     },
     "execution_count": 601,
     "metadata": {},
     "output_type": "execute_result"
    }
   ],
   "source": [
    "check = np.array([[-0.3, 0]])\n",
    "w = knn(X_train, y_train, check, k=5, p=2)\n",
    "w"
   ]
  },
  {
   "cell_type": "code",
   "execution_count": 602,
   "metadata": {},
   "outputs": [
    {
     "data": {
      "text/plain": [
       "[0]"
      ]
     },
     "execution_count": 602,
     "metadata": {},
     "output_type": "execute_result"
    }
   ],
   "source": [
    "check = np.array([[0, 0]])\n",
    "w = knn(X_train, y_train, check, k=5, p=2)\n",
    "w"
   ]
  },
  {
   "cell_type": "code",
   "execution_count": null,
   "metadata": {},
   "outputs": [],
   "source": [
    "check = np.array([[-0.3, 0]])\n",
    "w = knn(X_train, y_train, check, k=5, p=2)\n",
    "w"
   ]
  },
  {
   "cell_type": "markdown",
   "metadata": {},
   "source": [
    "## Testy k i p"
   ]
  },
  {
   "cell_type": "markdown",
   "metadata": {},
   "source": [
    "## Test 2 - dane rzeczywiste w R^2"
   ]
  },
  {
   "cell_type": "code",
   "execution_count": 487,
   "metadata": {},
   "outputs": [],
   "source": [
    "import pandas as pd\n",
    "import numpy as np\n",
    "from sklearn.model_selection import train_test_split\n",
    "from sklearn.preprocessing import StandardScaler\n",
    "\n",
    "df = pd.read_csv(\"SAheart.data\")\n",
    "y = df.chd\n",
    "X = df.drop(['chd'], axis = 1)\n",
    "X = pd.get_dummies(X, drop_first=True)\n",
    "X_train, X_test, y_train, y_test = train_test_split(X, y, test_size = 0.3)"
   ]
  },
  {
   "cell_type": "code",
   "execution_count": 488,
   "metadata": {},
   "outputs": [
    {
     "name": "stdout",
     "output_type": "stream",
     "text": [
      "Metryka 1. Wynik dokładności: 0.6403\n",
      "Metryka 2. Wynik dokładności: 0.6835\n",
      "Metryka inf. Wynik dokładności: 0.7050\n"
     ]
    }
   ],
   "source": [
    "scaler = StandardScaler() \n",
    "X_train_std = scaler.fit_transform(X_train) \n",
    "X_test_std = scaler.transform(X_test)\n",
    "\n",
    "for par in (1,2,inf):\n",
    "    w = knn(X_train_std, y_train, X_test_std, k=5, p=par)\n",
    "    print(f\"Metryka {str(par)}. Wynik dokładności: {accuracy_score(list(y_test), w):0.4f}\")"
   ]
  }
 ],
 "metadata": {
  "kernelspec": {
   "display_name": "base",
   "language": "python",
   "name": "python3"
  },
  "language_info": {
   "codemirror_mode": {
    "name": "ipython",
    "version": 3
   },
   "file_extension": ".py",
   "mimetype": "text/x-python",
   "name": "python",
   "nbconvert_exporter": "python",
   "pygments_lexer": "ipython3",
   "version": "3.9.7"
  },
  "orig_nbformat": 4
 },
 "nbformat": 4,
 "nbformat_minor": 2
}
